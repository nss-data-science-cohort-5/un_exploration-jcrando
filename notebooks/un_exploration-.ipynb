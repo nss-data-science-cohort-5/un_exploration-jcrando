{
 "cells": [
  {
   "cell_type": "code",
   "execution_count": 419,
   "id": "e2cfa09b",
   "metadata": {},
   "outputs": [],
   "source": [
    "import pandas as pd\n",
    "import numpy as np\n",
    "import matplotlib.pyplot as plt\n",
    "import seaborn as sns\n",
    "%matplotlib inline"
   ]
  },
  {
   "cell_type": "code",
   "execution_count": 420,
   "id": "e9d22b2c",
   "metadata": {},
   "outputs": [],
   "source": [
    "gdp_df=pd.read_csv('C:/Users/jcran/Documents/data_science/un_exploration-jcrando/data/gdp_per_capita.csv.csv')"
   ]
  },
  {
   "cell_type": "code",
   "execution_count": 421,
   "id": "e1277000",
   "metadata": {},
   "outputs": [],
   "source": [
    "### looking at the first 10 in the data"
   ]
  },
  {
   "cell_type": "code",
   "execution_count": 422,
   "id": "c9641175",
   "metadata": {},
   "outputs": [
    {
     "data": {
      "text/html": [
       "<div>\n",
       "<style scoped>\n",
       "    .dataframe tbody tr th:only-of-type {\n",
       "        vertical-align: middle;\n",
       "    }\n",
       "\n",
       "    .dataframe tbody tr th {\n",
       "        vertical-align: top;\n",
       "    }\n",
       "\n",
       "    .dataframe thead th {\n",
       "        text-align: right;\n",
       "    }\n",
       "</style>\n",
       "<table border=\"1\" class=\"dataframe\">\n",
       "  <thead>\n",
       "    <tr style=\"text-align: right;\">\n",
       "      <th></th>\n",
       "      <th>Country or Area</th>\n",
       "      <th>Year</th>\n",
       "      <th>Value</th>\n",
       "      <th>Value Footnotes</th>\n",
       "    </tr>\n",
       "  </thead>\n",
       "  <tbody>\n",
       "    <tr>\n",
       "      <th>0</th>\n",
       "      <td>Afghanistan</td>\n",
       "      <td>2019</td>\n",
       "      <td>2065.036398</td>\n",
       "      <td>NaN</td>\n",
       "    </tr>\n",
       "    <tr>\n",
       "      <th>1</th>\n",
       "      <td>Afghanistan</td>\n",
       "      <td>2018</td>\n",
       "      <td>2033.779002</td>\n",
       "      <td>NaN</td>\n",
       "    </tr>\n",
       "    <tr>\n",
       "      <th>2</th>\n",
       "      <td>Afghanistan</td>\n",
       "      <td>2017</td>\n",
       "      <td>2058.383832</td>\n",
       "      <td>NaN</td>\n",
       "    </tr>\n",
       "    <tr>\n",
       "      <th>3</th>\n",
       "      <td>Afghanistan</td>\n",
       "      <td>2016</td>\n",
       "      <td>2057.062164</td>\n",
       "      <td>NaN</td>\n",
       "    </tr>\n",
       "    <tr>\n",
       "      <th>4</th>\n",
       "      <td>Afghanistan</td>\n",
       "      <td>2015</td>\n",
       "      <td>2068.265904</td>\n",
       "      <td>NaN</td>\n",
       "    </tr>\n",
       "    <tr>\n",
       "      <th>5</th>\n",
       "      <td>Afghanistan</td>\n",
       "      <td>2014</td>\n",
       "      <td>2102.385234</td>\n",
       "      <td>NaN</td>\n",
       "    </tr>\n",
       "    <tr>\n",
       "      <th>6</th>\n",
       "      <td>Afghanistan</td>\n",
       "      <td>2013</td>\n",
       "      <td>2116.465454</td>\n",
       "      <td>NaN</td>\n",
       "    </tr>\n",
       "    <tr>\n",
       "      <th>7</th>\n",
       "      <td>Afghanistan</td>\n",
       "      <td>2012</td>\n",
       "      <td>2075.491747</td>\n",
       "      <td>NaN</td>\n",
       "    </tr>\n",
       "    <tr>\n",
       "      <th>8</th>\n",
       "      <td>Afghanistan</td>\n",
       "      <td>2011</td>\n",
       "      <td>1904.559799</td>\n",
       "      <td>NaN</td>\n",
       "    </tr>\n",
       "    <tr>\n",
       "      <th>9</th>\n",
       "      <td>Afghanistan</td>\n",
       "      <td>2010</td>\n",
       "      <td>1957.029338</td>\n",
       "      <td>NaN</td>\n",
       "    </tr>\n",
       "  </tbody>\n",
       "</table>\n",
       "</div>"
      ],
      "text/plain": [
       "  Country or Area  Year        Value  Value Footnotes\n",
       "0     Afghanistan  2019  2065.036398              NaN\n",
       "1     Afghanistan  2018  2033.779002              NaN\n",
       "2     Afghanistan  2017  2058.383832              NaN\n",
       "3     Afghanistan  2016  2057.062164              NaN\n",
       "4     Afghanistan  2015  2068.265904              NaN\n",
       "5     Afghanistan  2014  2102.385234              NaN\n",
       "6     Afghanistan  2013  2116.465454              NaN\n",
       "7     Afghanistan  2012  2075.491747              NaN\n",
       "8     Afghanistan  2011  1904.559799              NaN\n",
       "9     Afghanistan  2010  1957.029338              NaN"
      ]
     },
     "execution_count": 422,
     "metadata": {},
     "output_type": "execute_result"
    }
   ],
   "source": [
    "gdp_df.head(10)"
   ]
  },
  {
   "cell_type": "code",
   "execution_count": 423,
   "id": "69180aae",
   "metadata": {},
   "outputs": [],
   "source": [
    "### looking at the last 5 in the data "
   ]
  },
  {
   "cell_type": "code",
   "execution_count": 424,
   "id": "54a03748",
   "metadata": {},
   "outputs": [
    {
     "data": {
      "text/html": [
       "<div>\n",
       "<style scoped>\n",
       "    .dataframe tbody tr th:only-of-type {\n",
       "        vertical-align: middle;\n",
       "    }\n",
       "\n",
       "    .dataframe tbody tr th {\n",
       "        vertical-align: top;\n",
       "    }\n",
       "\n",
       "    .dataframe thead th {\n",
       "        text-align: right;\n",
       "    }\n",
       "</style>\n",
       "<table border=\"1\" class=\"dataframe\">\n",
       "  <thead>\n",
       "    <tr style=\"text-align: right;\">\n",
       "      <th></th>\n",
       "      <th>Country or Area</th>\n",
       "      <th>Year</th>\n",
       "      <th>Value</th>\n",
       "      <th>Value Footnotes</th>\n",
       "    </tr>\n",
       "  </thead>\n",
       "  <tbody>\n",
       "    <tr>\n",
       "      <th>6865</th>\n",
       "      <td>Zimbabwe</td>\n",
       "      <td>1992</td>\n",
       "      <td>3054.889178</td>\n",
       "      <td>NaN</td>\n",
       "    </tr>\n",
       "    <tr>\n",
       "      <th>6866</th>\n",
       "      <td>Zimbabwe</td>\n",
       "      <td>1991</td>\n",
       "      <td>3426.598094</td>\n",
       "      <td>NaN</td>\n",
       "    </tr>\n",
       "    <tr>\n",
       "      <th>6867</th>\n",
       "      <td>Zimbabwe</td>\n",
       "      <td>1990</td>\n",
       "      <td>3324.348171</td>\n",
       "      <td>NaN</td>\n",
       "    </tr>\n",
       "    <tr>\n",
       "      <th>6868</th>\n",
       "      <td>footnoteSeqID</td>\n",
       "      <td>Footnote</td>\n",
       "      <td>NaN</td>\n",
       "      <td>NaN</td>\n",
       "    </tr>\n",
       "    <tr>\n",
       "      <th>6869</th>\n",
       "      <td>2</td>\n",
       "      <td>Excludes South Sudan after July 9, 2011.</td>\n",
       "      <td>NaN</td>\n",
       "      <td>NaN</td>\n",
       "    </tr>\n",
       "  </tbody>\n",
       "</table>\n",
       "</div>"
      ],
      "text/plain": [
       "     Country or Area                                      Year        Value  \\\n",
       "6865        Zimbabwe                                      1992  3054.889178   \n",
       "6866        Zimbabwe                                      1991  3426.598094   \n",
       "6867        Zimbabwe                                      1990  3324.348171   \n",
       "6868   footnoteSeqID                                  Footnote          NaN   \n",
       "6869               2  Excludes South Sudan after July 9, 2011.          NaN   \n",
       "\n",
       "      Value Footnotes  \n",
       "6865              NaN  \n",
       "6866              NaN  \n",
       "6867              NaN  \n",
       "6868              NaN  \n",
       "6869              NaN  "
      ]
     },
     "execution_count": 424,
     "metadata": {},
     "output_type": "execute_result"
    }
   ],
   "source": [
    "gdp_df.tail()"
   ]
  },
  {
   "cell_type": "code",
   "execution_count": 425,
   "id": "fedf83bb",
   "metadata": {},
   "outputs": [],
   "source": [
    "### dropping the last 2 rows in the data fram (6868 and 6869)"
   ]
  },
  {
   "cell_type": "code",
   "execution_count": 426,
   "id": "a084741b",
   "metadata": {},
   "outputs": [],
   "source": [
    "gdp_df= gdp_df.drop([6868, 6869])"
   ]
  },
  {
   "cell_type": "code",
   "execution_count": 427,
   "id": "c761359a",
   "metadata": {},
   "outputs": [
    {
     "data": {
      "text/html": [
       "<div>\n",
       "<style scoped>\n",
       "    .dataframe tbody tr th:only-of-type {\n",
       "        vertical-align: middle;\n",
       "    }\n",
       "\n",
       "    .dataframe tbody tr th {\n",
       "        vertical-align: top;\n",
       "    }\n",
       "\n",
       "    .dataframe thead th {\n",
       "        text-align: right;\n",
       "    }\n",
       "</style>\n",
       "<table border=\"1\" class=\"dataframe\">\n",
       "  <thead>\n",
       "    <tr style=\"text-align: right;\">\n",
       "      <th></th>\n",
       "      <th>Country or Area</th>\n",
       "      <th>Year</th>\n",
       "      <th>Value</th>\n",
       "      <th>Value Footnotes</th>\n",
       "    </tr>\n",
       "  </thead>\n",
       "  <tbody>\n",
       "    <tr>\n",
       "      <th>6863</th>\n",
       "      <td>Zimbabwe</td>\n",
       "      <td>1994</td>\n",
       "      <td>3263.934978</td>\n",
       "      <td>NaN</td>\n",
       "    </tr>\n",
       "    <tr>\n",
       "      <th>6864</th>\n",
       "      <td>Zimbabwe</td>\n",
       "      <td>1993</td>\n",
       "      <td>3033.504852</td>\n",
       "      <td>NaN</td>\n",
       "    </tr>\n",
       "    <tr>\n",
       "      <th>6865</th>\n",
       "      <td>Zimbabwe</td>\n",
       "      <td>1992</td>\n",
       "      <td>3054.889178</td>\n",
       "      <td>NaN</td>\n",
       "    </tr>\n",
       "    <tr>\n",
       "      <th>6866</th>\n",
       "      <td>Zimbabwe</td>\n",
       "      <td>1991</td>\n",
       "      <td>3426.598094</td>\n",
       "      <td>NaN</td>\n",
       "    </tr>\n",
       "    <tr>\n",
       "      <th>6867</th>\n",
       "      <td>Zimbabwe</td>\n",
       "      <td>1990</td>\n",
       "      <td>3324.348171</td>\n",
       "      <td>NaN</td>\n",
       "    </tr>\n",
       "  </tbody>\n",
       "</table>\n",
       "</div>"
      ],
      "text/plain": [
       "     Country or Area  Year        Value  Value Footnotes\n",
       "6863        Zimbabwe  1994  3263.934978              NaN\n",
       "6864        Zimbabwe  1993  3033.504852              NaN\n",
       "6865        Zimbabwe  1992  3054.889178              NaN\n",
       "6866        Zimbabwe  1991  3426.598094              NaN\n",
       "6867        Zimbabwe  1990  3324.348171              NaN"
      ]
     },
     "execution_count": 427,
     "metadata": {},
     "output_type": "execute_result"
    }
   ],
   "source": [
    "gdp_df.tail()"
   ]
  },
  {
   "cell_type": "code",
   "execution_count": 428,
   "id": "199c774b",
   "metadata": {},
   "outputs": [],
   "source": [
    "### dropping 'value footnotes' column"
   ]
  },
  {
   "cell_type": "code",
   "execution_count": 429,
   "id": "1bee7892",
   "metadata": {},
   "outputs": [],
   "source": [
    "gdp_df= gdp_df.drop(columns=['Value Footnotes'])"
   ]
  },
  {
   "cell_type": "code",
   "execution_count": 430,
   "id": "e09ecf5e",
   "metadata": {},
   "outputs": [
    {
     "data": {
      "text/html": [
       "<div>\n",
       "<style scoped>\n",
       "    .dataframe tbody tr th:only-of-type {\n",
       "        vertical-align: middle;\n",
       "    }\n",
       "\n",
       "    .dataframe tbody tr th {\n",
       "        vertical-align: top;\n",
       "    }\n",
       "\n",
       "    .dataframe thead th {\n",
       "        text-align: right;\n",
       "    }\n",
       "</style>\n",
       "<table border=\"1\" class=\"dataframe\">\n",
       "  <thead>\n",
       "    <tr style=\"text-align: right;\">\n",
       "      <th></th>\n",
       "      <th>Country or Area</th>\n",
       "      <th>Year</th>\n",
       "      <th>Value</th>\n",
       "    </tr>\n",
       "  </thead>\n",
       "  <tbody>\n",
       "    <tr>\n",
       "      <th>0</th>\n",
       "      <td>Afghanistan</td>\n",
       "      <td>2019</td>\n",
       "      <td>2065.036398</td>\n",
       "    </tr>\n",
       "    <tr>\n",
       "      <th>1</th>\n",
       "      <td>Afghanistan</td>\n",
       "      <td>2018</td>\n",
       "      <td>2033.779002</td>\n",
       "    </tr>\n",
       "    <tr>\n",
       "      <th>2</th>\n",
       "      <td>Afghanistan</td>\n",
       "      <td>2017</td>\n",
       "      <td>2058.383832</td>\n",
       "    </tr>\n",
       "    <tr>\n",
       "      <th>3</th>\n",
       "      <td>Afghanistan</td>\n",
       "      <td>2016</td>\n",
       "      <td>2057.062164</td>\n",
       "    </tr>\n",
       "    <tr>\n",
       "      <th>4</th>\n",
       "      <td>Afghanistan</td>\n",
       "      <td>2015</td>\n",
       "      <td>2068.265904</td>\n",
       "    </tr>\n",
       "  </tbody>\n",
       "</table>\n",
       "</div>"
      ],
      "text/plain": [
       "  Country or Area  Year        Value\n",
       "0     Afghanistan  2019  2065.036398\n",
       "1     Afghanistan  2018  2033.779002\n",
       "2     Afghanistan  2017  2058.383832\n",
       "3     Afghanistan  2016  2057.062164\n",
       "4     Afghanistan  2015  2068.265904"
      ]
     },
     "execution_count": 430,
     "metadata": {},
     "output_type": "execute_result"
    }
   ],
   "source": [
    "gdp_df.head()"
   ]
  },
  {
   "cell_type": "code",
   "execution_count": 431,
   "id": "175f19e9",
   "metadata": {},
   "outputs": [],
   "source": [
    "### renaming the columns"
   ]
  },
  {
   "cell_type": "code",
   "execution_count": 432,
   "id": "2fce3fad",
   "metadata": {},
   "outputs": [],
   "source": [
    "gdp_df.columns=['Country', 'Year', 'GDP_Per_Capita']"
   ]
  },
  {
   "cell_type": "code",
   "execution_count": 433,
   "id": "78f52f0d",
   "metadata": {},
   "outputs": [
    {
     "data": {
      "text/html": [
       "<div>\n",
       "<style scoped>\n",
       "    .dataframe tbody tr th:only-of-type {\n",
       "        vertical-align: middle;\n",
       "    }\n",
       "\n",
       "    .dataframe tbody tr th {\n",
       "        vertical-align: top;\n",
       "    }\n",
       "\n",
       "    .dataframe thead th {\n",
       "        text-align: right;\n",
       "    }\n",
       "</style>\n",
       "<table border=\"1\" class=\"dataframe\">\n",
       "  <thead>\n",
       "    <tr style=\"text-align: right;\">\n",
       "      <th></th>\n",
       "      <th>Country</th>\n",
       "      <th>Year</th>\n",
       "      <th>GDP_Per_Capita</th>\n",
       "    </tr>\n",
       "  </thead>\n",
       "  <tbody>\n",
       "    <tr>\n",
       "      <th>0</th>\n",
       "      <td>Afghanistan</td>\n",
       "      <td>2019</td>\n",
       "      <td>2065.036398</td>\n",
       "    </tr>\n",
       "    <tr>\n",
       "      <th>1</th>\n",
       "      <td>Afghanistan</td>\n",
       "      <td>2018</td>\n",
       "      <td>2033.779002</td>\n",
       "    </tr>\n",
       "    <tr>\n",
       "      <th>2</th>\n",
       "      <td>Afghanistan</td>\n",
       "      <td>2017</td>\n",
       "      <td>2058.383832</td>\n",
       "    </tr>\n",
       "    <tr>\n",
       "      <th>3</th>\n",
       "      <td>Afghanistan</td>\n",
       "      <td>2016</td>\n",
       "      <td>2057.062164</td>\n",
       "    </tr>\n",
       "    <tr>\n",
       "      <th>4</th>\n",
       "      <td>Afghanistan</td>\n",
       "      <td>2015</td>\n",
       "      <td>2068.265904</td>\n",
       "    </tr>\n",
       "  </tbody>\n",
       "</table>\n",
       "</div>"
      ],
      "text/plain": [
       "       Country  Year  GDP_Per_Capita\n",
       "0  Afghanistan  2019     2065.036398\n",
       "1  Afghanistan  2018     2033.779002\n",
       "2  Afghanistan  2017     2058.383832\n",
       "3  Afghanistan  2016     2057.062164\n",
       "4  Afghanistan  2015     2068.265904"
      ]
     },
     "execution_count": 433,
     "metadata": {},
     "output_type": "execute_result"
    }
   ],
   "source": [
    "gdp_df.head()"
   ]
  },
  {
   "cell_type": "code",
   "execution_count": 434,
   "id": "6de2eeac",
   "metadata": {},
   "outputs": [
    {
     "name": "stdout",
     "output_type": "stream",
     "text": [
      "<class 'pandas.core.frame.DataFrame'>\n",
      "Int64Index: 6868 entries, 0 to 6867\n",
      "Data columns (total 3 columns):\n",
      " #   Column          Non-Null Count  Dtype  \n",
      "---  ------          --------------  -----  \n",
      " 0   Country         6868 non-null   object \n",
      " 1   Year            6868 non-null   object \n",
      " 2   GDP_Per_Capita  6868 non-null   float64\n",
      "dtypes: float64(1), object(2)\n",
      "memory usage: 214.6+ KB\n"
     ]
    }
   ],
   "source": [
    "gdp_df.info()"
   ]
  },
  {
   "cell_type": "code",
   "execution_count": 435,
   "id": "3fb04227",
   "metadata": {},
   "outputs": [],
   "source": [
    "### gdp_df has 3 columns and 6868  rows\n",
    "### country is an object\n",
    "### year is an object----this should be an integer\n",
    "### GDP_per_capita is a float"
   ]
  },
  {
   "cell_type": "code",
   "execution_count": 436,
   "id": "c4dbadfe",
   "metadata": {},
   "outputs": [],
   "source": [
    "### turning year from object to integer"
   ]
  },
  {
   "cell_type": "code",
   "execution_count": 437,
   "id": "09764eab",
   "metadata": {},
   "outputs": [],
   "source": [
    "gdp_df['Year'] = pd.to_numeric(gdp_df['Year'])"
   ]
  },
  {
   "cell_type": "code",
   "execution_count": 438,
   "id": "5a924beb",
   "metadata": {},
   "outputs": [
    {
     "name": "stdout",
     "output_type": "stream",
     "text": [
      "<class 'pandas.core.frame.DataFrame'>\n",
      "Int64Index: 6868 entries, 0 to 6867\n",
      "Data columns (total 3 columns):\n",
      " #   Column          Non-Null Count  Dtype  \n",
      "---  ------          --------------  -----  \n",
      " 0   Country         6868 non-null   object \n",
      " 1   Year            6868 non-null   int64  \n",
      " 2   GDP_Per_Capita  6868 non-null   float64\n",
      "dtypes: float64(1), int64(1), object(1)\n",
      "memory usage: 214.6+ KB\n"
     ]
    }
   ],
   "source": [
    "gdp_df.info()"
   ]
  },
  {
   "cell_type": "code",
   "execution_count": 439,
   "id": "72d979f8",
   "metadata": {},
   "outputs": [],
   "source": [
    "###looking at the number of observations per year and the years that are in the data set\n",
    "### years go from 1990-2019 but only years 2013-2017 have all 238 countries "
   ]
  },
  {
   "cell_type": "code",
   "execution_count": 440,
   "id": "fe79a56c",
   "metadata": {},
   "outputs": [
    {
     "data": {
      "text/html": [
       "<div>\n",
       "<style scoped>\n",
       "    .dataframe tbody tr th:only-of-type {\n",
       "        vertical-align: middle;\n",
       "    }\n",
       "\n",
       "    .dataframe tbody tr th {\n",
       "        vertical-align: top;\n",
       "    }\n",
       "\n",
       "    .dataframe thead th {\n",
       "        text-align: right;\n",
       "    }\n",
       "</style>\n",
       "<table border=\"1\" class=\"dataframe\">\n",
       "  <thead>\n",
       "    <tr style=\"text-align: right;\">\n",
       "      <th></th>\n",
       "      <th>Country</th>\n",
       "      <th>Year</th>\n",
       "      <th>GDP_Per_Capita</th>\n",
       "    </tr>\n",
       "  </thead>\n",
       "  <tbody>\n",
       "    <tr>\n",
       "      <th>6867</th>\n",
       "      <td>Zimbabwe</td>\n",
       "      <td>1990</td>\n",
       "      <td>3324.348171</td>\n",
       "    </tr>\n",
       "    <tr>\n",
       "      <th>3715</th>\n",
       "      <td>Luxembourg</td>\n",
       "      <td>1990</td>\n",
       "      <td>67857.540495</td>\n",
       "    </tr>\n",
       "    <tr>\n",
       "      <th>5883</th>\n",
       "      <td>Sub-Saharan Africa</td>\n",
       "      <td>1990</td>\n",
       "      <td>2838.374656</td>\n",
       "    </tr>\n",
       "    <tr>\n",
       "      <th>585</th>\n",
       "      <td>Bermuda</td>\n",
       "      <td>1990</td>\n",
       "      <td>65961.406278</td>\n",
       "    </tr>\n",
       "    <tr>\n",
       "      <th>4702</th>\n",
       "      <td>OECD members</td>\n",
       "      <td>1990</td>\n",
       "      <td>29442.103553</td>\n",
       "    </tr>\n",
       "    <tr>\n",
       "      <th>...</th>\n",
       "      <td>...</td>\n",
       "      <td>...</td>\n",
       "      <td>...</td>\n",
       "    </tr>\n",
       "    <tr>\n",
       "      <th>4733</th>\n",
       "      <td>Other small states</td>\n",
       "      <td>2019</td>\n",
       "      <td>22712.396168</td>\n",
       "    </tr>\n",
       "    <tr>\n",
       "      <th>4753</th>\n",
       "      <td>Pacific island small states</td>\n",
       "      <td>2019</td>\n",
       "      <td>7321.695171</td>\n",
       "    </tr>\n",
       "    <tr>\n",
       "      <th>1222</th>\n",
       "      <td>Comoros</td>\n",
       "      <td>2019</td>\n",
       "      <td>3059.509705</td>\n",
       "    </tr>\n",
       "    <tr>\n",
       "      <th>4813</th>\n",
       "      <td>Palau</td>\n",
       "      <td>2019</td>\n",
       "      <td>17579.459805</td>\n",
       "    </tr>\n",
       "    <tr>\n",
       "      <th>0</th>\n",
       "      <td>Afghanistan</td>\n",
       "      <td>2019</td>\n",
       "      <td>2065.036398</td>\n",
       "    </tr>\n",
       "  </tbody>\n",
       "</table>\n",
       "<p>6868 rows × 3 columns</p>\n",
       "</div>"
      ],
      "text/plain": [
       "                          Country  Year  GDP_Per_Capita\n",
       "6867                     Zimbabwe  1990     3324.348171\n",
       "3715                   Luxembourg  1990    67857.540495\n",
       "5883           Sub-Saharan Africa  1990     2838.374656\n",
       "585                       Bermuda  1990    65961.406278\n",
       "4702                 OECD members  1990    29442.103553\n",
       "...                           ...   ...             ...\n",
       "4733           Other small states  2019    22712.396168\n",
       "4753  Pacific island small states  2019     7321.695171\n",
       "1222                      Comoros  2019     3059.509705\n",
       "4813                        Palau  2019    17579.459805\n",
       "0                     Afghanistan  2019     2065.036398\n",
       "\n",
       "[6868 rows x 3 columns]"
      ]
     },
     "execution_count": 440,
     "metadata": {},
     "output_type": "execute_result"
    }
   ],
   "source": [
    "gdp_df.sort_values('Year')"
   ]
  },
  {
   "cell_type": "code",
   "execution_count": 441,
   "id": "922142c0",
   "metadata": {},
   "outputs": [
    {
     "data": {
      "text/plain": [
       "2013    238\n",
       "2014    238\n",
       "2016    238\n",
       "2015    238\n",
       "2017    238\n",
       "2012    237\n",
       "2018    237\n",
       "2011    237\n",
       "2009    236\n",
       "2010    236\n",
       "2007    235\n",
       "2008    235\n",
       "2006    235\n",
       "2004    234\n",
       "2005    234\n",
       "2002    233\n",
       "2003    233\n",
       "2001    232\n",
       "2019    231\n",
       "2000    231\n",
       "1999    224\n",
       "1998    223\n",
       "1997    223\n",
       "1996    221\n",
       "1995    221\n",
       "1994    214\n",
       "1993    212\n",
       "1992    209\n",
       "1991    208\n",
       "1990    207\n",
       "Name: Year, dtype: int64"
      ]
     },
     "execution_count": 441,
     "metadata": {},
     "output_type": "execute_result"
    }
   ],
   "source": [
    "gdp_df['Year'].value_counts()"
   ]
  },
  {
   "cell_type": "code",
   "execution_count": 442,
   "id": "03349bab",
   "metadata": {},
   "outputs": [
    {
     "data": {
      "text/plain": [
       "Euro area                    30\n",
       "Lesotho                      30\n",
       "Nepal                        30\n",
       "Mauritania                   30\n",
       "Honduras                     30\n",
       "                             ..\n",
       "Nauru                        16\n",
       "Cayman Islands               13\n",
       "Sint Maarten (Dutch part)    10\n",
       "Turks and Caicos Islands      9\n",
       "Djibouti                      7\n",
       "Name: Country, Length: 238, dtype: int64"
      ]
     },
     "execution_count": 442,
     "metadata": {},
     "output_type": "execute_result"
    }
   ],
   "source": [
    "gdp_df['Country'].value_counts()"
   ]
  },
  {
   "cell_type": "code",
   "execution_count": 443,
   "id": "59f8f657",
   "metadata": {},
   "outputs": [],
   "source": [
    "### using the code above, can see that there are 238 countries accounted for in the data but the bigger countries have 30 \n",
    "### entries (one for every year between 1990 and 2019) and some of the smaller ones like Djibouti have as few as 7 entries"
   ]
  },
  {
   "cell_type": "code",
   "execution_count": 444,
   "id": "21b22797",
   "metadata": {},
   "outputs": [],
   "source": [
    "### making a new dataframe that only has the year 2014"
   ]
  },
  {
   "cell_type": "code",
   "execution_count": 445,
   "id": "f5b321c8",
   "metadata": {},
   "outputs": [],
   "source": [
    "gdp_2014=gdp_df[gdp_df['Year']==2014]"
   ]
  },
  {
   "cell_type": "code",
   "execution_count": 446,
   "id": "1679ea4b",
   "metadata": {},
   "outputs": [
    {
     "data": {
      "text/html": [
       "<div>\n",
       "<style scoped>\n",
       "    .dataframe tbody tr th:only-of-type {\n",
       "        vertical-align: middle;\n",
       "    }\n",
       "\n",
       "    .dataframe tbody tr th {\n",
       "        vertical-align: top;\n",
       "    }\n",
       "\n",
       "    .dataframe thead th {\n",
       "        text-align: right;\n",
       "    }\n",
       "</style>\n",
       "<table border=\"1\" class=\"dataframe\">\n",
       "  <thead>\n",
       "    <tr style=\"text-align: right;\">\n",
       "      <th></th>\n",
       "      <th>Country</th>\n",
       "      <th>Year</th>\n",
       "      <th>GDP_Per_Capita</th>\n",
       "    </tr>\n",
       "  </thead>\n",
       "  <tbody>\n",
       "    <tr>\n",
       "      <th>5</th>\n",
       "      <td>Afghanistan</td>\n",
       "      <td>2014</td>\n",
       "      <td>2102.385234</td>\n",
       "    </tr>\n",
       "    <tr>\n",
       "      <th>23</th>\n",
       "      <td>Albania</td>\n",
       "      <td>2014</td>\n",
       "      <td>11623.866679</td>\n",
       "    </tr>\n",
       "    <tr>\n",
       "      <th>53</th>\n",
       "      <td>Algeria</td>\n",
       "      <td>2014</td>\n",
       "      <td>11512.705405</td>\n",
       "    </tr>\n",
       "    <tr>\n",
       "      <th>83</th>\n",
       "      <td>Angola</td>\n",
       "      <td>2014</td>\n",
       "      <td>8239.828837</td>\n",
       "    </tr>\n",
       "    <tr>\n",
       "      <th>113</th>\n",
       "      <td>Antigua and Barbuda</td>\n",
       "      <td>2014</td>\n",
       "      <td>18104.241470</td>\n",
       "    </tr>\n",
       "    <tr>\n",
       "      <th>...</th>\n",
       "      <td>...</td>\n",
       "      <td>...</td>\n",
       "      <td>...</td>\n",
       "    </tr>\n",
       "    <tr>\n",
       "      <th>6727</th>\n",
       "      <td>Vietnam</td>\n",
       "      <td>2014</td>\n",
       "      <td>6098.489609</td>\n",
       "    </tr>\n",
       "    <tr>\n",
       "      <th>6757</th>\n",
       "      <td>West Bank and Gaza</td>\n",
       "      <td>2014</td>\n",
       "      <td>5967.073437</td>\n",
       "    </tr>\n",
       "    <tr>\n",
       "      <th>6783</th>\n",
       "      <td>World</td>\n",
       "      <td>2014</td>\n",
       "      <td>15189.648507</td>\n",
       "    </tr>\n",
       "    <tr>\n",
       "      <th>6813</th>\n",
       "      <td>Zambia</td>\n",
       "      <td>2014</td>\n",
       "      <td>3450.046561</td>\n",
       "    </tr>\n",
       "    <tr>\n",
       "      <th>6843</th>\n",
       "      <td>Zimbabwe</td>\n",
       "      <td>2014</td>\n",
       "      <td>2955.240287</td>\n",
       "    </tr>\n",
       "  </tbody>\n",
       "</table>\n",
       "<p>238 rows × 3 columns</p>\n",
       "</div>"
      ],
      "text/plain": [
       "                  Country  Year  GDP_Per_Capita\n",
       "5             Afghanistan  2014     2102.385234\n",
       "23                Albania  2014    11623.866679\n",
       "53                Algeria  2014    11512.705405\n",
       "83                 Angola  2014     8239.828837\n",
       "113   Antigua and Barbuda  2014    18104.241470\n",
       "...                   ...   ...             ...\n",
       "6727              Vietnam  2014     6098.489609\n",
       "6757   West Bank and Gaza  2014     5967.073437\n",
       "6783                World  2014    15189.648507\n",
       "6813               Zambia  2014     3450.046561\n",
       "6843             Zimbabwe  2014     2955.240287\n",
       "\n",
       "[238 rows x 3 columns]"
      ]
     },
     "execution_count": 446,
     "metadata": {},
     "output_type": "execute_result"
    }
   ],
   "source": [
    "gdp_df[gdp_df['Year']==2014]"
   ]
  },
  {
   "cell_type": "code",
   "execution_count": 447,
   "id": "9f553982",
   "metadata": {},
   "outputs": [],
   "source": [
    "### want summary stats for gdp in 2014 (use describe)"
   ]
  },
  {
   "cell_type": "code",
   "execution_count": 448,
   "id": "cfeda421",
   "metadata": {},
   "outputs": [
    {
     "data": {
      "text/html": [
       "<div>\n",
       "<style scoped>\n",
       "    .dataframe tbody tr th:only-of-type {\n",
       "        vertical-align: middle;\n",
       "    }\n",
       "\n",
       "    .dataframe tbody tr th {\n",
       "        vertical-align: top;\n",
       "    }\n",
       "\n",
       "    .dataframe thead th {\n",
       "        text-align: right;\n",
       "    }\n",
       "</style>\n",
       "<table border=\"1\" class=\"dataframe\">\n",
       "  <thead>\n",
       "    <tr style=\"text-align: right;\">\n",
       "      <th></th>\n",
       "      <th>Year</th>\n",
       "      <th>GDP_Per_Capita</th>\n",
       "    </tr>\n",
       "  </thead>\n",
       "  <tbody>\n",
       "    <tr>\n",
       "      <th>count</th>\n",
       "      <td>238.0</td>\n",
       "      <td>238.000000</td>\n",
       "    </tr>\n",
       "    <tr>\n",
       "      <th>mean</th>\n",
       "      <td>2014.0</td>\n",
       "      <td>19766.710348</td>\n",
       "    </tr>\n",
       "    <tr>\n",
       "      <th>std</th>\n",
       "      <td>0.0</td>\n",
       "      <td>20983.869623</td>\n",
       "    </tr>\n",
       "    <tr>\n",
       "      <th>min</th>\n",
       "      <td>2014.0</td>\n",
       "      <td>822.610458</td>\n",
       "    </tr>\n",
       "    <tr>\n",
       "      <th>25%</th>\n",
       "      <td>2014.0</td>\n",
       "      <td>4753.110934</td>\n",
       "    </tr>\n",
       "    <tr>\n",
       "      <th>50%</th>\n",
       "      <td>2014.0</td>\n",
       "      <td>12209.385755</td>\n",
       "    </tr>\n",
       "    <tr>\n",
       "      <th>75%</th>\n",
       "      <td>2014.0</td>\n",
       "      <td>26803.610474</td>\n",
       "    </tr>\n",
       "    <tr>\n",
       "      <th>max</th>\n",
       "      <td>2014.0</td>\n",
       "      <td>156514.133850</td>\n",
       "    </tr>\n",
       "  </tbody>\n",
       "</table>\n",
       "</div>"
      ],
      "text/plain": [
       "         Year  GDP_Per_Capita\n",
       "count   238.0      238.000000\n",
       "mean   2014.0    19766.710348\n",
       "std       0.0    20983.869623\n",
       "min    2014.0      822.610458\n",
       "25%    2014.0     4753.110934\n",
       "50%    2014.0    12209.385755\n",
       "75%    2014.0    26803.610474\n",
       "max    2014.0   156514.133850"
      ]
     },
     "execution_count": 448,
     "metadata": {},
     "output_type": "execute_result"
    }
   ],
   "source": [
    "gdp_2014.describe()"
   ]
  },
  {
   "cell_type": "code",
   "execution_count": 449,
   "id": "3bc438d7",
   "metadata": {},
   "outputs": [],
   "source": [
    "### making a histogram of gdp numbers in 2014\n",
    "### it skews to the right"
   ]
  },
  {
   "cell_type": "code",
   "execution_count": 450,
   "id": "c2874075",
   "metadata": {},
   "outputs": [
    {
     "data": {
      "text/plain": [
       "<AxesSubplot:>"
      ]
     },
     "execution_count": 450,
     "metadata": {},
     "output_type": "execute_result"
    },
    {
     "data": {
      "image/png": "[encoded data removed]",
      "text/plain": [
       "<Figure size 432x288 with 1 Axes>"
      ]
     },
     "metadata": {
      "needs_background": "light"
     },
     "output_type": "display_data"
    }
   ],
   "source": [
    "gdp_2014['GDP_Per_Capita'].hist(bins=50)"
   ]
  },
  {
   "cell_type": "code",
   "execution_count": 451,
   "id": "6091e27d",
   "metadata": {},
   "outputs": [],
   "source": [
    "###finding the top and bottom 5 countries by gdp in 2014"
   ]
  },
  {
   "cell_type": "code",
   "execution_count": 452,
   "id": "9f5eaedc",
   "metadata": {},
   "outputs": [
    {
     "data": {
      "text/html": [
       "<div>\n",
       "<style scoped>\n",
       "    .dataframe tbody tr th:only-of-type {\n",
       "        vertical-align: middle;\n",
       "    }\n",
       "\n",
       "    .dataframe tbody tr th {\n",
       "        vertical-align: top;\n",
       "    }\n",
       "\n",
       "    .dataframe thead th {\n",
       "        text-align: right;\n",
       "    }\n",
       "</style>\n",
       "<table border=\"1\" class=\"dataframe\">\n",
       "  <thead>\n",
       "    <tr style=\"text-align: right;\">\n",
       "      <th></th>\n",
       "      <th>Country</th>\n",
       "      <th>Year</th>\n",
       "      <th>GDP_Per_Capita</th>\n",
       "    </tr>\n",
       "  </thead>\n",
       "  <tbody>\n",
       "    <tr>\n",
       "      <th>1047</th>\n",
       "      <td>Central African Republic</td>\n",
       "      <td>2014</td>\n",
       "      <td>822.610458</td>\n",
       "    </tr>\n",
       "    <tr>\n",
       "      <th>827</th>\n",
       "      <td>Burundi</td>\n",
       "      <td>2014</td>\n",
       "      <td>886.235777</td>\n",
       "    </tr>\n",
       "    <tr>\n",
       "      <th>3781</th>\n",
       "      <td>Malawi</td>\n",
       "      <td>2014</td>\n",
       "      <td>1027.208496</td>\n",
       "    </tr>\n",
       "    <tr>\n",
       "      <th>1422</th>\n",
       "      <td>Dem. Rep. Congo</td>\n",
       "      <td>2014</td>\n",
       "      <td>1029.790785</td>\n",
       "    </tr>\n",
       "    <tr>\n",
       "      <th>4528</th>\n",
       "      <td>Niger</td>\n",
       "      <td>2014</td>\n",
       "      <td>1127.615541</td>\n",
       "    </tr>\n",
       "    <tr>\n",
       "      <th>...</th>\n",
       "      <td>...</td>\n",
       "      <td>...</td>\n",
       "      <td>...</td>\n",
       "    </tr>\n",
       "    <tr>\n",
       "      <th>561</th>\n",
       "      <td>Bermuda</td>\n",
       "      <td>2014</td>\n",
       "      <td>77361.104881</td>\n",
       "    </tr>\n",
       "    <tr>\n",
       "      <th>5464</th>\n",
       "      <td>Singapore</td>\n",
       "      <td>2014</td>\n",
       "      <td>87808.663157</td>\n",
       "    </tr>\n",
       "    <tr>\n",
       "      <th>5138</th>\n",
       "      <td>Qatar</td>\n",
       "      <td>2014</td>\n",
       "      <td>95578.416973</td>\n",
       "    </tr>\n",
       "    <tr>\n",
       "      <th>3691</th>\n",
       "      <td>Luxembourg</td>\n",
       "      <td>2014</td>\n",
       "      <td>108760.916030</td>\n",
       "    </tr>\n",
       "    <tr>\n",
       "      <th>3721</th>\n",
       "      <td>Macao SAR, China</td>\n",
       "      <td>2014</td>\n",
       "      <td>156514.133850</td>\n",
       "    </tr>\n",
       "  </tbody>\n",
       "</table>\n",
       "<p>238 rows × 3 columns</p>\n",
       "</div>"
      ],
      "text/plain": [
       "                       Country  Year  GDP_Per_Capita\n",
       "1047  Central African Republic  2014      822.610458\n",
       "827                    Burundi  2014      886.235777\n",
       "3781                    Malawi  2014     1027.208496\n",
       "1422           Dem. Rep. Congo  2014     1029.790785\n",
       "4528                     Niger  2014     1127.615541\n",
       "...                        ...   ...             ...\n",
       "561                    Bermuda  2014    77361.104881\n",
       "5464                 Singapore  2014    87808.663157\n",
       "5138                     Qatar  2014    95578.416973\n",
       "3691                Luxembourg  2014   108760.916030\n",
       "3721          Macao SAR, China  2014   156514.133850\n",
       "\n",
       "[238 rows x 3 columns]"
      ]
     },
     "execution_count": 452,
     "metadata": {},
     "output_type": "execute_result"
    }
   ],
   "source": [
    "gdp_2014.sort_values('GDP_Per_Capita')"
   ]
  },
  {
   "cell_type": "code",
   "execution_count": 453,
   "id": "549b7dc5",
   "metadata": {},
   "outputs": [],
   "source": [
    "### now on question 14\n",
    "### get the data for just 1990 and 2017 (the key to this is using the 'pipe'(|) to signify 'or' in between the years)\n",
    "### pivot the graph so that countries are on row and the years are columns\n",
    "### drop any rows that have missing values for either year"
   ]
  },
  {
   "cell_type": "code",
   "execution_count": 454,
   "id": "02dc04e9",
   "metadata": {},
   "outputs": [],
   "source": [
    "gdp_df1990_and_2017= gdp_df[(gdp_df['Year']== 1990) | (gdp_df['Year']== 2017)]"
   ]
  },
  {
   "cell_type": "code",
   "execution_count": 455,
   "id": "3160223a",
   "metadata": {},
   "outputs": [
    {
     "data": {
      "text/html": [
       "<div>\n",
       "<style scoped>\n",
       "    .dataframe tbody tr th:only-of-type {\n",
       "        vertical-align: middle;\n",
       "    }\n",
       "\n",
       "    .dataframe tbody tr th {\n",
       "        vertical-align: top;\n",
       "    }\n",
       "\n",
       "    .dataframe thead th {\n",
       "        text-align: right;\n",
       "    }\n",
       "</style>\n",
       "<table border=\"1\" class=\"dataframe\">\n",
       "  <thead>\n",
       "    <tr style=\"text-align: right;\">\n",
       "      <th></th>\n",
       "      <th>Country</th>\n",
       "      <th>Year</th>\n",
       "      <th>GDP_Per_Capita</th>\n",
       "    </tr>\n",
       "  </thead>\n",
       "  <tbody>\n",
       "    <tr>\n",
       "      <th>2</th>\n",
       "      <td>Afghanistan</td>\n",
       "      <td>2017</td>\n",
       "      <td>2058.383832</td>\n",
       "    </tr>\n",
       "    <tr>\n",
       "      <th>20</th>\n",
       "      <td>Albania</td>\n",
       "      <td>2017</td>\n",
       "      <td>12811.759436</td>\n",
       "    </tr>\n",
       "    <tr>\n",
       "      <th>47</th>\n",
       "      <td>Albania</td>\n",
       "      <td>1990</td>\n",
       "      <td>4842.734635</td>\n",
       "    </tr>\n",
       "    <tr>\n",
       "      <th>50</th>\n",
       "      <td>Algeria</td>\n",
       "      <td>2017</td>\n",
       "      <td>11737.409353</td>\n",
       "    </tr>\n",
       "    <tr>\n",
       "      <th>77</th>\n",
       "      <td>Algeria</td>\n",
       "      <td>1990</td>\n",
       "      <td>8746.352901</td>\n",
       "    </tr>\n",
       "    <tr>\n",
       "      <th>...</th>\n",
       "      <td>...</td>\n",
       "      <td>...</td>\n",
       "      <td>...</td>\n",
       "    </tr>\n",
       "    <tr>\n",
       "      <th>6807</th>\n",
       "      <td>World</td>\n",
       "      <td>1990</td>\n",
       "      <td>9680.269697</td>\n",
       "    </tr>\n",
       "    <tr>\n",
       "      <th>6810</th>\n",
       "      <td>Zambia</td>\n",
       "      <td>2017</td>\n",
       "      <td>3485.005238</td>\n",
       "    </tr>\n",
       "    <tr>\n",
       "      <th>6837</th>\n",
       "      <td>Zambia</td>\n",
       "      <td>1990</td>\n",
       "      <td>2190.182814</td>\n",
       "    </tr>\n",
       "    <tr>\n",
       "      <th>6840</th>\n",
       "      <td>Zimbabwe</td>\n",
       "      <td>2017</td>\n",
       "      <td>3028.245976</td>\n",
       "    </tr>\n",
       "    <tr>\n",
       "      <th>6867</th>\n",
       "      <td>Zimbabwe</td>\n",
       "      <td>1990</td>\n",
       "      <td>3324.348171</td>\n",
       "    </tr>\n",
       "  </tbody>\n",
       "</table>\n",
       "<p>445 rows × 3 columns</p>\n",
       "</div>"
      ],
      "text/plain": [
       "          Country  Year  GDP_Per_Capita\n",
       "2     Afghanistan  2017     2058.383832\n",
       "20        Albania  2017    12811.759436\n",
       "47        Albania  1990     4842.734635\n",
       "50        Algeria  2017    11737.409353\n",
       "77        Algeria  1990     8746.352901\n",
       "...           ...   ...             ...\n",
       "6807        World  1990     9680.269697\n",
       "6810       Zambia  2017     3485.005238\n",
       "6837       Zambia  1990     2190.182814\n",
       "6840     Zimbabwe  2017     3028.245976\n",
       "6867     Zimbabwe  1990     3324.348171\n",
       "\n",
       "[445 rows x 3 columns]"
      ]
     },
     "execution_count": 455,
     "metadata": {},
     "output_type": "execute_result"
    }
   ],
   "source": [
    "gdp_df1990_and_2017"
   ]
  },
  {
   "cell_type": "code",
   "execution_count": 456,
   "id": "8eaf6291",
   "metadata": {},
   "outputs": [],
   "source": [
    "gdp_pivoted=pd.pivot_table(gdp_df1990_and_2017, columns= \"Year\",index=\"Country\")"
   ]
  },
  {
   "cell_type": "code",
   "execution_count": 457,
   "id": "863e566c",
   "metadata": {},
   "outputs": [
    {
     "data": {
      "text/html": [
       "<div>\n",
       "<style scoped>\n",
       "    .dataframe tbody tr th:only-of-type {\n",
       "        vertical-align: middle;\n",
       "    }\n",
       "\n",
       "    .dataframe tbody tr th {\n",
       "        vertical-align: top;\n",
       "    }\n",
       "\n",
       "    .dataframe thead tr th {\n",
       "        text-align: left;\n",
       "    }\n",
       "\n",
       "    .dataframe thead tr:last-of-type th {\n",
       "        text-align: right;\n",
       "    }\n",
       "</style>\n",
       "<table border=\"1\" class=\"dataframe\">\n",
       "  <thead>\n",
       "    <tr>\n",
       "      <th></th>\n",
       "      <th colspan=\"2\" halign=\"left\">GDP_Per_Capita</th>\n",
       "    </tr>\n",
       "    <tr>\n",
       "      <th>Year</th>\n",
       "      <th>1990</th>\n",
       "      <th>2017</th>\n",
       "    </tr>\n",
       "    <tr>\n",
       "      <th>Country</th>\n",
       "      <th></th>\n",
       "      <th></th>\n",
       "    </tr>\n",
       "  </thead>\n",
       "  <tbody>\n",
       "    <tr>\n",
       "      <th>Afghanistan</th>\n",
       "      <td>NaN</td>\n",
       "      <td>2058.383832</td>\n",
       "    </tr>\n",
       "    <tr>\n",
       "      <th>Albania</th>\n",
       "      <td>4842.734635</td>\n",
       "      <td>12811.759436</td>\n",
       "    </tr>\n",
       "    <tr>\n",
       "      <th>Algeria</th>\n",
       "      <td>8746.352901</td>\n",
       "      <td>11737.409353</td>\n",
       "    </tr>\n",
       "    <tr>\n",
       "      <th>Angola</th>\n",
       "      <td>5783.429064</td>\n",
       "      <td>7310.901738</td>\n",
       "    </tr>\n",
       "    <tr>\n",
       "      <th>Antigua and Barbuda</th>\n",
       "      <td>15459.551675</td>\n",
       "      <td>19840.076123</td>\n",
       "    </tr>\n",
       "    <tr>\n",
       "      <th>...</th>\n",
       "      <td>...</td>\n",
       "      <td>...</td>\n",
       "    </tr>\n",
       "    <tr>\n",
       "      <th>Vietnam</th>\n",
       "      <td>1673.249634</td>\n",
       "      <td>7155.745829</td>\n",
       "    </tr>\n",
       "    <tr>\n",
       "      <th>West Bank and Gaza</th>\n",
       "      <td>NaN</td>\n",
       "      <td>6401.740891</td>\n",
       "    </tr>\n",
       "    <tr>\n",
       "      <th>World</th>\n",
       "      <td>9680.269697</td>\n",
       "      <td>16253.385518</td>\n",
       "    </tr>\n",
       "    <tr>\n",
       "      <th>Zambia</th>\n",
       "      <td>2190.182814</td>\n",
       "      <td>3485.005238</td>\n",
       "    </tr>\n",
       "    <tr>\n",
       "      <th>Zimbabwe</th>\n",
       "      <td>3324.348171</td>\n",
       "      <td>3028.245976</td>\n",
       "    </tr>\n",
       "  </tbody>\n",
       "</table>\n",
       "<p>238 rows × 2 columns</p>\n",
       "</div>"
      ],
      "text/plain": [
       "                    GDP_Per_Capita              \n",
       "Year                          1990          2017\n",
       "Country                                         \n",
       "Afghanistan                    NaN   2058.383832\n",
       "Albania                4842.734635  12811.759436\n",
       "Algeria                8746.352901  11737.409353\n",
       "Angola                 5783.429064   7310.901738\n",
       "Antigua and Barbuda   15459.551675  19840.076123\n",
       "...                            ...           ...\n",
       "Vietnam                1673.249634   7155.745829\n",
       "West Bank and Gaza             NaN   6401.740891\n",
       "World                  9680.269697  16253.385518\n",
       "Zambia                 2190.182814   3485.005238\n",
       "Zimbabwe               3324.348171   3028.245976\n",
       "\n",
       "[238 rows x 2 columns]"
      ]
     },
     "execution_count": 457,
     "metadata": {},
     "output_type": "execute_result"
    }
   ],
   "source": [
    "gdp_pivoted"
   ]
  },
  {
   "cell_type": "code",
   "execution_count": 458,
   "id": "f9cec5ea",
   "metadata": {},
   "outputs": [],
   "source": [
    "gdp_pivoted=gdp_pivoted.dropna()"
   ]
  },
  {
   "cell_type": "code",
   "execution_count": 459,
   "id": "0600dc39",
   "metadata": {},
   "outputs": [
    {
     "data": {
      "text/html": [
       "<div>\n",
       "<style scoped>\n",
       "    .dataframe tbody tr th:only-of-type {\n",
       "        vertical-align: middle;\n",
       "    }\n",
       "\n",
       "    .dataframe tbody tr th {\n",
       "        vertical-align: top;\n",
       "    }\n",
       "\n",
       "    .dataframe thead tr th {\n",
       "        text-align: left;\n",
       "    }\n",
       "\n",
       "    .dataframe thead tr:last-of-type th {\n",
       "        text-align: right;\n",
       "    }\n",
       "</style>\n",
       "<table border=\"1\" class=\"dataframe\">\n",
       "  <thead>\n",
       "    <tr>\n",
       "      <th></th>\n",
       "      <th colspan=\"2\" halign=\"left\">GDP_Per_Capita</th>\n",
       "    </tr>\n",
       "    <tr>\n",
       "      <th>Year</th>\n",
       "      <th>1990</th>\n",
       "      <th>2017</th>\n",
       "    </tr>\n",
       "    <tr>\n",
       "      <th>Country</th>\n",
       "      <th></th>\n",
       "      <th></th>\n",
       "    </tr>\n",
       "  </thead>\n",
       "  <tbody>\n",
       "    <tr>\n",
       "      <th>Albania</th>\n",
       "      <td>4842.734635</td>\n",
       "      <td>12811.759436</td>\n",
       "    </tr>\n",
       "    <tr>\n",
       "      <th>Algeria</th>\n",
       "      <td>8746.352901</td>\n",
       "      <td>11737.409353</td>\n",
       "    </tr>\n",
       "    <tr>\n",
       "      <th>Angola</th>\n",
       "      <td>5783.429064</td>\n",
       "      <td>7310.901738</td>\n",
       "    </tr>\n",
       "    <tr>\n",
       "      <th>Antigua and Barbuda</th>\n",
       "      <td>15459.551675</td>\n",
       "      <td>19840.076123</td>\n",
       "    </tr>\n",
       "    <tr>\n",
       "      <th>Arab World</th>\n",
       "      <td>9694.667544</td>\n",
       "      <td>14555.474921</td>\n",
       "    </tr>\n",
       "    <tr>\n",
       "      <th>...</th>\n",
       "      <td>...</td>\n",
       "      <td>...</td>\n",
       "    </tr>\n",
       "    <tr>\n",
       "      <th>Vanuatu</th>\n",
       "      <td>2888.309393</td>\n",
       "      <td>3116.645194</td>\n",
       "    </tr>\n",
       "    <tr>\n",
       "      <th>Vietnam</th>\n",
       "      <td>1673.249634</td>\n",
       "      <td>7155.745829</td>\n",
       "    </tr>\n",
       "    <tr>\n",
       "      <th>World</th>\n",
       "      <td>9680.269697</td>\n",
       "      <td>16253.385518</td>\n",
       "    </tr>\n",
       "    <tr>\n",
       "      <th>Zambia</th>\n",
       "      <td>2190.182814</td>\n",
       "      <td>3485.005238</td>\n",
       "    </tr>\n",
       "    <tr>\n",
       "      <th>Zimbabwe</th>\n",
       "      <td>3324.348171</td>\n",
       "      <td>3028.245976</td>\n",
       "    </tr>\n",
       "  </tbody>\n",
       "</table>\n",
       "<p>207 rows × 2 columns</p>\n",
       "</div>"
      ],
      "text/plain": [
       "                    GDP_Per_Capita              \n",
       "Year                          1990          2017\n",
       "Country                                         \n",
       "Albania                4842.734635  12811.759436\n",
       "Algeria                8746.352901  11737.409353\n",
       "Angola                 5783.429064   7310.901738\n",
       "Antigua and Barbuda   15459.551675  19840.076123\n",
       "Arab World             9694.667544  14555.474921\n",
       "...                            ...           ...\n",
       "Vanuatu                2888.309393   3116.645194\n",
       "Vietnam                1673.249634   7155.745829\n",
       "World                  9680.269697  16253.385518\n",
       "Zambia                 2190.182814   3485.005238\n",
       "Zimbabwe               3324.348171   3028.245976\n",
       "\n",
       "[207 rows x 2 columns]"
      ]
     },
     "execution_count": 459,
     "metadata": {},
     "output_type": "execute_result"
    }
   ],
   "source": [
    "gdp_pivoted"
   ]
  },
  {
   "cell_type": "code",
   "execution_count": 460,
   "id": "6bad4f8f",
   "metadata": {},
   "outputs": [],
   "source": [
    "### Create a new column in gdp_pivoted named Percent_Change. This column should contain the percent change \n",
    "### in GDP_Per_Capita from 1990 to 2017. Hint: Percent change is calculated as 100*(New Value - Old Value) / Old Value."
   ]
  },
  {
   "cell_type": "code",
   "execution_count": 461,
   "id": "9e1d1603",
   "metadata": {},
   "outputs": [
    {
     "data": {
      "text/plain": [
       "Country\n",
       "Albania                12811.759436\n",
       "Algeria                11737.409353\n",
       "Angola                  7310.901738\n",
       "Antigua and Barbuda    19840.076123\n",
       "Arab World             14555.474921\n",
       "                           ...     \n",
       "Vanuatu                 3116.645194\n",
       "Vietnam                 7155.745829\n",
       "World                  16253.385518\n",
       "Zambia                  3485.005238\n",
       "Zimbabwe                3028.245976\n",
       "Name: 2017, Length: 207, dtype: float64"
      ]
     },
     "execution_count": 461,
     "metadata": {},
     "output_type": "execute_result"
    }
   ],
   "source": [
    "gdp_pivoted['GDP_Per_Capita'][2017]"
   ]
  },
  {
   "cell_type": "code",
   "execution_count": 462,
   "id": "b421a6e7",
   "metadata": {},
   "outputs": [
    {
     "name": "stderr",
     "output_type": "stream",
     "text": [
      "<ipython-input-462-3e8af834105a>:1: SettingWithCopyWarning: \n",
      "A value is trying to be set on a copy of a slice from a DataFrame.\n",
      "Try using .loc[row_indexer,col_indexer] = value instead\n",
      "\n",
      "See the caveats in the documentation: https://pandas.pydata.org/pandas-docs/stable/user_guide/indexing.html#returning-a-view-versus-a-copy\n",
      "  gdp_pivoted['Percent_Change']= 100*((gdp_pivoted['GDP_Per_Capita'][2017]- gdp_pivoted['GDP_Per_Capita'][1990])/gdp_pivoted['GDP_Per_Capita'][1990])\n"
     ]
    }
   ],
   "source": [
    "gdp_pivoted['Percent_Change']= 100*((gdp_pivoted['GDP_Per_Capita'][2017]- gdp_pivoted['GDP_Per_Capita'][1990])/gdp_pivoted['GDP_Per_Capita'][1990])"
   ]
  },
  {
   "cell_type": "code",
   "execution_count": 463,
   "id": "1bae0ae5",
   "metadata": {},
   "outputs": [
    {
     "data": {
      "text/html": [
       "<div>\n",
       "<style scoped>\n",
       "    .dataframe tbody tr th:only-of-type {\n",
       "        vertical-align: middle;\n",
       "    }\n",
       "\n",
       "    .dataframe tbody tr th {\n",
       "        vertical-align: top;\n",
       "    }\n",
       "\n",
       "    .dataframe thead tr th {\n",
       "        text-align: left;\n",
       "    }\n",
       "\n",
       "    .dataframe thead tr:last-of-type th {\n",
       "        text-align: right;\n",
       "    }\n",
       "</style>\n",
       "<table border=\"1\" class=\"dataframe\">\n",
       "  <thead>\n",
       "    <tr>\n",
       "      <th></th>\n",
       "      <th colspan=\"2\" halign=\"left\">GDP_Per_Capita</th>\n",
       "      <th>Percent_Change</th>\n",
       "    </tr>\n",
       "    <tr>\n",
       "      <th>Year</th>\n",
       "      <th>1990</th>\n",
       "      <th>2017</th>\n",
       "      <th></th>\n",
       "    </tr>\n",
       "    <tr>\n",
       "      <th>Country</th>\n",
       "      <th></th>\n",
       "      <th></th>\n",
       "      <th></th>\n",
       "    </tr>\n",
       "  </thead>\n",
       "  <tbody>\n",
       "    <tr>\n",
       "      <th>Albania</th>\n",
       "      <td>4842.734635</td>\n",
       "      <td>12811.759436</td>\n",
       "      <td>164.556297</td>\n",
       "    </tr>\n",
       "    <tr>\n",
       "      <th>Algeria</th>\n",
       "      <td>8746.352901</td>\n",
       "      <td>11737.409353</td>\n",
       "      <td>34.197756</td>\n",
       "    </tr>\n",
       "    <tr>\n",
       "      <th>Angola</th>\n",
       "      <td>5783.429064</td>\n",
       "      <td>7310.901738</td>\n",
       "      <td>26.411194</td>\n",
       "    </tr>\n",
       "    <tr>\n",
       "      <th>Antigua and Barbuda</th>\n",
       "      <td>15459.551675</td>\n",
       "      <td>19840.076123</td>\n",
       "      <td>28.335391</td>\n",
       "    </tr>\n",
       "    <tr>\n",
       "      <th>Arab World</th>\n",
       "      <td>9694.667544</td>\n",
       "      <td>14555.474921</td>\n",
       "      <td>50.138980</td>\n",
       "    </tr>\n",
       "    <tr>\n",
       "      <th>...</th>\n",
       "      <td>...</td>\n",
       "      <td>...</td>\n",
       "      <td>...</td>\n",
       "    </tr>\n",
       "    <tr>\n",
       "      <th>Vanuatu</th>\n",
       "      <td>2888.309393</td>\n",
       "      <td>3116.645194</td>\n",
       "      <td>7.905517</td>\n",
       "    </tr>\n",
       "    <tr>\n",
       "      <th>Vietnam</th>\n",
       "      <td>1673.249634</td>\n",
       "      <td>7155.745829</td>\n",
       "      <td>327.655604</td>\n",
       "    </tr>\n",
       "    <tr>\n",
       "      <th>World</th>\n",
       "      <td>9680.269697</td>\n",
       "      <td>16253.385518</td>\n",
       "      <td>67.902197</td>\n",
       "    </tr>\n",
       "    <tr>\n",
       "      <th>Zambia</th>\n",
       "      <td>2190.182814</td>\n",
       "      <td>3485.005238</td>\n",
       "      <td>59.119377</td>\n",
       "    </tr>\n",
       "    <tr>\n",
       "      <th>Zimbabwe</th>\n",
       "      <td>3324.348171</td>\n",
       "      <td>3028.245976</td>\n",
       "      <td>-8.907075</td>\n",
       "    </tr>\n",
       "  </tbody>\n",
       "</table>\n",
       "<p>207 rows × 3 columns</p>\n",
       "</div>"
      ],
      "text/plain": [
       "                    GDP_Per_Capita               Percent_Change\n",
       "Year                          1990          2017               \n",
       "Country                                                        \n",
       "Albania                4842.734635  12811.759436     164.556297\n",
       "Algeria                8746.352901  11737.409353      34.197756\n",
       "Angola                 5783.429064   7310.901738      26.411194\n",
       "Antigua and Barbuda   15459.551675  19840.076123      28.335391\n",
       "Arab World             9694.667544  14555.474921      50.138980\n",
       "...                            ...           ...            ...\n",
       "Vanuatu                2888.309393   3116.645194       7.905517\n",
       "Vietnam                1673.249634   7155.745829     327.655604\n",
       "World                  9680.269697  16253.385518      67.902197\n",
       "Zambia                 2190.182814   3485.005238      59.119377\n",
       "Zimbabwe               3324.348171   3028.245976      -8.907075\n",
       "\n",
       "[207 rows x 3 columns]"
      ]
     },
     "execution_count": 463,
     "metadata": {},
     "output_type": "execute_result"
    }
   ],
   "source": [
    "gdp_pivoted"
   ]
  },
  {
   "cell_type": "markdown",
   "id": "c77b056b",
   "metadata": {},
   "source": [
    "Question 16, how many countries had negative percent change in gdp\n",
    "\n",
    "Answer is 17"
   ]
  },
  {
   "cell_type": "code",
   "execution_count": 464,
   "id": "949afc5e",
   "metadata": {},
   "outputs": [
    {
     "data": {
      "text/html": [
       "<div>\n",
       "<style scoped>\n",
       "    .dataframe tbody tr th:only-of-type {\n",
       "        vertical-align: middle;\n",
       "    }\n",
       "\n",
       "    .dataframe tbody tr th {\n",
       "        vertical-align: top;\n",
       "    }\n",
       "\n",
       "    .dataframe thead tr th {\n",
       "        text-align: left;\n",
       "    }\n",
       "\n",
       "    .dataframe thead tr:last-of-type th {\n",
       "        text-align: right;\n",
       "    }\n",
       "</style>\n",
       "<table border=\"1\" class=\"dataframe\">\n",
       "  <thead>\n",
       "    <tr>\n",
       "      <th></th>\n",
       "      <th colspan=\"2\" halign=\"left\">GDP_Per_Capita</th>\n",
       "      <th>Percent_Change</th>\n",
       "    </tr>\n",
       "    <tr>\n",
       "      <th>Year</th>\n",
       "      <th>1990</th>\n",
       "      <th>2017</th>\n",
       "      <th></th>\n",
       "    </tr>\n",
       "    <tr>\n",
       "      <th>Country</th>\n",
       "      <th></th>\n",
       "      <th></th>\n",
       "      <th></th>\n",
       "    </tr>\n",
       "  </thead>\n",
       "  <tbody>\n",
       "    <tr>\n",
       "      <th>Dem. Rep. Congo</th>\n",
       "      <td>1819.723315</td>\n",
       "      <td>1059.810775</td>\n",
       "      <td>-41.759785</td>\n",
       "    </tr>\n",
       "    <tr>\n",
       "      <th>United Arab Emirates</th>\n",
       "      <td>111454.360446</td>\n",
       "      <td>67183.626557</td>\n",
       "      <td>-39.720953</td>\n",
       "    </tr>\n",
       "    <tr>\n",
       "      <th>Burundi</th>\n",
       "      <td>1184.842440</td>\n",
       "      <td>773.571858</td>\n",
       "      <td>-34.710993</td>\n",
       "    </tr>\n",
       "    <tr>\n",
       "      <th>Ukraine</th>\n",
       "      <td>15751.722440</td>\n",
       "      <td>11871.123624</td>\n",
       "      <td>-24.636028</td>\n",
       "    </tr>\n",
       "    <tr>\n",
       "      <th>Central African Republic</th>\n",
       "      <td>1201.677234</td>\n",
       "      <td>912.802052</td>\n",
       "      <td>-24.039332</td>\n",
       "    </tr>\n",
       "    <tr>\n",
       "      <th>...</th>\n",
       "      <td>...</td>\n",
       "      <td>...</td>\n",
       "      <td>...</td>\n",
       "    </tr>\n",
       "    <tr>\n",
       "      <th>East Asia &amp; Pacific (IDA &amp; IBRD)</th>\n",
       "      <td>2196.950288</td>\n",
       "      <td>13123.151792</td>\n",
       "      <td>497.334945</td>\n",
       "    </tr>\n",
       "    <tr>\n",
       "      <th>East Asia &amp; Pacific (excluding high income)</th>\n",
       "      <td>2173.223895</td>\n",
       "      <td>12986.322227</td>\n",
       "      <td>497.560254</td>\n",
       "    </tr>\n",
       "    <tr>\n",
       "      <th>Myanmar</th>\n",
       "      <td>619.645144</td>\n",
       "      <td>4739.910118</td>\n",
       "      <td>664.939443</td>\n",
       "    </tr>\n",
       "    <tr>\n",
       "      <th>China</th>\n",
       "      <td>1423.896348</td>\n",
       "      <td>14344.421239</td>\n",
       "      <td>907.406281</td>\n",
       "    </tr>\n",
       "    <tr>\n",
       "      <th>Equatorial Guinea</th>\n",
       "      <td>1039.985049</td>\n",
       "      <td>22551.083246</td>\n",
       "      <td>2068.404561</td>\n",
       "    </tr>\n",
       "  </tbody>\n",
       "</table>\n",
       "<p>207 rows × 3 columns</p>\n",
       "</div>"
      ],
      "text/plain": [
       "                                            GDP_Per_Capita                \\\n",
       "Year                                                  1990          2017   \n",
       "Country                                                                    \n",
       "Dem. Rep. Congo                                1819.723315   1059.810775   \n",
       "United Arab Emirates                         111454.360446  67183.626557   \n",
       "Burundi                                        1184.842440    773.571858   \n",
       "Ukraine                                       15751.722440  11871.123624   \n",
       "Central African Republic                       1201.677234    912.802052   \n",
       "...                                                    ...           ...   \n",
       "East Asia & Pacific (IDA & IBRD)               2196.950288  13123.151792   \n",
       "East Asia & Pacific (excluding high income)    2173.223895  12986.322227   \n",
       "Myanmar                                         619.645144   4739.910118   \n",
       "China                                          1423.896348  14344.421239   \n",
       "Equatorial Guinea                              1039.985049  22551.083246   \n",
       "\n",
       "                                            Percent_Change  \n",
       "Year                                                        \n",
       "Country                                                     \n",
       "Dem. Rep. Congo                                 -41.759785  \n",
       "United Arab Emirates                            -39.720953  \n",
       "Burundi                                         -34.710993  \n",
       "Ukraine                                         -24.636028  \n",
       "Central African Republic                        -24.039332  \n",
       "...                                                    ...  \n",
       "East Asia & Pacific (IDA & IBRD)                497.334945  \n",
       "East Asia & Pacific (excluding high income)     497.560254  \n",
       "Myanmar                                         664.939443  \n",
       "China                                           907.406281  \n",
       "Equatorial Guinea                              2068.404561  \n",
       "\n",
       "[207 rows x 3 columns]"
      ]
     },
     "execution_count": 464,
     "metadata": {},
     "output_type": "execute_result"
    }
   ],
   "source": [
    "### first get gdp going in order from least to most\n",
    "gdp_pivoted.sort_values('Percent_Change')"
   ]
  },
  {
   "cell_type": "code",
   "execution_count": 465,
   "id": "a1a0c3ee",
   "metadata": {},
   "outputs": [
    {
     "data": {
      "text/html": [
       "<div>\n",
       "<style scoped>\n",
       "    .dataframe tbody tr th:only-of-type {\n",
       "        vertical-align: middle;\n",
       "    }\n",
       "\n",
       "    .dataframe tbody tr th {\n",
       "        vertical-align: top;\n",
       "    }\n",
       "\n",
       "    .dataframe thead tr th {\n",
       "        text-align: left;\n",
       "    }\n",
       "\n",
       "    .dataframe thead tr:last-of-type th {\n",
       "        text-align: right;\n",
       "    }\n",
       "</style>\n",
       "<table border=\"1\" class=\"dataframe\">\n",
       "  <thead>\n",
       "    <tr>\n",
       "      <th></th>\n",
       "      <th colspan=\"2\" halign=\"left\">GDP_Per_Capita</th>\n",
       "      <th>Percent_Change</th>\n",
       "    </tr>\n",
       "    <tr>\n",
       "      <th>Year</th>\n",
       "      <th>1990</th>\n",
       "      <th>2017</th>\n",
       "      <th></th>\n",
       "    </tr>\n",
       "    <tr>\n",
       "      <th>Country</th>\n",
       "      <th></th>\n",
       "      <th></th>\n",
       "      <th></th>\n",
       "    </tr>\n",
       "  </thead>\n",
       "  <tbody>\n",
       "    <tr>\n",
       "      <th>Brunei</th>\n",
       "      <td>71230.862143</td>\n",
       "      <td>60995.681114</td>\n",
       "      <td>-14.369026</td>\n",
       "    </tr>\n",
       "    <tr>\n",
       "      <th>Burundi</th>\n",
       "      <td>1184.842440</td>\n",
       "      <td>773.571858</td>\n",
       "      <td>-34.710993</td>\n",
       "    </tr>\n",
       "    <tr>\n",
       "      <th>Central African Republic</th>\n",
       "      <td>1201.677234</td>\n",
       "      <td>912.802052</td>\n",
       "      <td>-24.039332</td>\n",
       "    </tr>\n",
       "    <tr>\n",
       "      <th>Comoros</th>\n",
       "      <td>3061.360665</td>\n",
       "      <td>3032.254682</td>\n",
       "      <td>-0.950753</td>\n",
       "    </tr>\n",
       "    <tr>\n",
       "      <th>Congo</th>\n",
       "      <td>5115.210903</td>\n",
       "      <td>4274.296414</td>\n",
       "      <td>-16.439488</td>\n",
       "    </tr>\n",
       "    <tr>\n",
       "      <th>Dem. Rep. Congo</th>\n",
       "      <td>1819.723315</td>\n",
       "      <td>1059.810775</td>\n",
       "      <td>-41.759785</td>\n",
       "    </tr>\n",
       "    <tr>\n",
       "      <th>Gabon</th>\n",
       "      <td>18179.265733</td>\n",
       "      <td>15006.764091</td>\n",
       "      <td>-17.451209</td>\n",
       "    </tr>\n",
       "    <tr>\n",
       "      <th>Guinea-Bissau</th>\n",
       "      <td>1994.669656</td>\n",
       "      <td>1925.237737</td>\n",
       "      <td>-3.480873</td>\n",
       "    </tr>\n",
       "    <tr>\n",
       "      <th>Haiti</th>\n",
       "      <td>3229.618638</td>\n",
       "      <td>2980.960856</td>\n",
       "      <td>-7.699292</td>\n",
       "    </tr>\n",
       "    <tr>\n",
       "      <th>Kyrgyz Republic</th>\n",
       "      <td>5158.317569</td>\n",
       "      <td>5046.691535</td>\n",
       "      <td>-2.164001</td>\n",
       "    </tr>\n",
       "    <tr>\n",
       "      <th>Madagascar</th>\n",
       "      <td>1853.051624</td>\n",
       "      <td>1584.422678</td>\n",
       "      <td>-14.496571</td>\n",
       "    </tr>\n",
       "    <tr>\n",
       "      <th>Tajikistan</th>\n",
       "      <td>3869.043636</td>\n",
       "      <td>3089.530208</td>\n",
       "      <td>-20.147445</td>\n",
       "    </tr>\n",
       "    <tr>\n",
       "      <th>The Bahamas</th>\n",
       "      <td>38099.848616</td>\n",
       "      <td>36297.307023</td>\n",
       "      <td>-4.731099</td>\n",
       "    </tr>\n",
       "    <tr>\n",
       "      <th>The Gambia</th>\n",
       "      <td>2265.238219</td>\n",
       "      <td>2072.652450</td>\n",
       "      <td>-8.501789</td>\n",
       "    </tr>\n",
       "    <tr>\n",
       "      <th>Ukraine</th>\n",
       "      <td>15751.722440</td>\n",
       "      <td>11871.123624</td>\n",
       "      <td>-24.636028</td>\n",
       "    </tr>\n",
       "    <tr>\n",
       "      <th>United Arab Emirates</th>\n",
       "      <td>111454.360446</td>\n",
       "      <td>67183.626557</td>\n",
       "      <td>-39.720953</td>\n",
       "    </tr>\n",
       "    <tr>\n",
       "      <th>Zimbabwe</th>\n",
       "      <td>3324.348171</td>\n",
       "      <td>3028.245976</td>\n",
       "      <td>-8.907075</td>\n",
       "    </tr>\n",
       "  </tbody>\n",
       "</table>\n",
       "</div>"
      ],
      "text/plain": [
       "                         GDP_Per_Capita               Percent_Change\n",
       "Year                               1990          2017               \n",
       "Country                                                             \n",
       "Brunei                     71230.862143  60995.681114     -14.369026\n",
       "Burundi                     1184.842440    773.571858     -34.710993\n",
       "Central African Republic    1201.677234    912.802052     -24.039332\n",
       "Comoros                     3061.360665   3032.254682      -0.950753\n",
       "Congo                       5115.210903   4274.296414     -16.439488\n",
       "Dem. Rep. Congo             1819.723315   1059.810775     -41.759785\n",
       "Gabon                      18179.265733  15006.764091     -17.451209\n",
       "Guinea-Bissau               1994.669656   1925.237737      -3.480873\n",
       "Haiti                       3229.618638   2980.960856      -7.699292\n",
       "Kyrgyz Republic             5158.317569   5046.691535      -2.164001\n",
       "Madagascar                  1853.051624   1584.422678     -14.496571\n",
       "Tajikistan                  3869.043636   3089.530208     -20.147445\n",
       "The Bahamas                38099.848616  36297.307023      -4.731099\n",
       "The Gambia                  2265.238219   2072.652450      -8.501789\n",
       "Ukraine                    15751.722440  11871.123624     -24.636028\n",
       "United Arab Emirates      111454.360446  67183.626557     -39.720953\n",
       "Zimbabwe                    3324.348171   3028.245976      -8.907075"
      ]
     },
     "execution_count": 465,
     "metadata": {},
     "output_type": "execute_result"
    }
   ],
   "source": [
    "### then get python to pull out all with negative values and count the rows with the row count on the bottom left\n",
    "gdp_pivoted[gdp_pivoted['Percent_Change'] <0]"
   ]
  },
  {
   "cell_type": "code",
   "execution_count": 466,
   "id": "0292e580",
   "metadata": {},
   "outputs": [
    {
     "data": {
      "text/plain": [
       "                Year\n",
       "GDP_Per_Capita  1990    17\n",
       "                2017    17\n",
       "Percent_Change          17\n",
       "dtype: int64"
      ]
     },
     "execution_count": 466,
     "metadata": {},
     "output_type": "execute_result"
    }
   ],
   "source": [
    "gdp_pivoted[gdp_pivoted['Percent_Change'] <0].count()"
   ]
  },
  {
   "cell_type": "markdown",
   "id": "5d6b5d40",
   "metadata": {},
   "source": [
    "17: Which country had the highest % change in GDP per capita? Create a line plot showing this country's GDP per capita for all years from 1990 to 2017. Create another showing the country with the second highest % change in GDP. How do the trends in these countries compare?"
   ]
  },
  {
   "cell_type": "markdown",
   "id": "7f30146b",
   "metadata": {},
   "source": [
    "17: answer: Equatorial Guinea had the highest change followed by China\n",
    "EQ goes up, then down, China is still on the rise"
   ]
  },
  {
   "cell_type": "code",
   "execution_count": 467,
   "id": "4b8bc573",
   "metadata": {},
   "outputs": [],
   "source": [
    "Equatorial_Guinea_gdp=gdp_df[gdp_df['Country']=='Equatorial Guinea'].drop(index= [1754,1755])"
   ]
  },
  {
   "cell_type": "code",
   "execution_count": 468,
   "id": "367f9dfe",
   "metadata": {},
   "outputs": [
    {
     "data": {
      "text/html": [
       "<div>\n",
       "<style scoped>\n",
       "    .dataframe tbody tr th:only-of-type {\n",
       "        vertical-align: middle;\n",
       "    }\n",
       "\n",
       "    .dataframe tbody tr th {\n",
       "        vertical-align: top;\n",
       "    }\n",
       "\n",
       "    .dataframe thead th {\n",
       "        text-align: right;\n",
       "    }\n",
       "</style>\n",
       "<table border=\"1\" class=\"dataframe\">\n",
       "  <thead>\n",
       "    <tr style=\"text-align: right;\">\n",
       "      <th></th>\n",
       "      <th>Country</th>\n",
       "      <th>Year</th>\n",
       "      <th>GDP_Per_Capita</th>\n",
       "    </tr>\n",
       "  </thead>\n",
       "  <tbody>\n",
       "    <tr>\n",
       "      <th>1756</th>\n",
       "      <td>Equatorial Guinea</td>\n",
       "      <td>2017</td>\n",
       "      <td>22551.083246</td>\n",
       "    </tr>\n",
       "    <tr>\n",
       "      <th>1757</th>\n",
       "      <td>Equatorial Guinea</td>\n",
       "      <td>2016</td>\n",
       "      <td>24827.072978</td>\n",
       "    </tr>\n",
       "    <tr>\n",
       "      <th>1758</th>\n",
       "      <td>Equatorial Guinea</td>\n",
       "      <td>2015</td>\n",
       "      <td>28313.602763</td>\n",
       "    </tr>\n",
       "    <tr>\n",
       "      <th>1759</th>\n",
       "      <td>Equatorial Guinea</td>\n",
       "      <td>2014</td>\n",
       "      <td>32436.466793</td>\n",
       "    </tr>\n",
       "    <tr>\n",
       "      <th>1760</th>\n",
       "      <td>Equatorial Guinea</td>\n",
       "      <td>2013</td>\n",
       "      <td>33678.706547</td>\n",
       "    </tr>\n",
       "    <tr>\n",
       "      <th>1761</th>\n",
       "      <td>Equatorial Guinea</td>\n",
       "      <td>2012</td>\n",
       "      <td>36671.357436</td>\n",
       "    </tr>\n",
       "    <tr>\n",
       "      <th>1762</th>\n",
       "      <td>Equatorial Guinea</td>\n",
       "      <td>2011</td>\n",
       "      <td>35378.023284</td>\n",
       "    </tr>\n",
       "    <tr>\n",
       "      <th>1763</th>\n",
       "      <td>Equatorial Guinea</td>\n",
       "      <td>2010</td>\n",
       "      <td>34732.255956</td>\n",
       "    </tr>\n",
       "    <tr>\n",
       "      <th>1764</th>\n",
       "      <td>Equatorial Guinea</td>\n",
       "      <td>2009</td>\n",
       "      <td>39913.732604</td>\n",
       "    </tr>\n",
       "    <tr>\n",
       "      <th>1765</th>\n",
       "      <td>Equatorial Guinea</td>\n",
       "      <td>2008</td>\n",
       "      <td>41249.438662</td>\n",
       "    </tr>\n",
       "    <tr>\n",
       "      <th>1766</th>\n",
       "      <td>Equatorial Guinea</td>\n",
       "      <td>2007</td>\n",
       "      <td>36685.298706</td>\n",
       "    </tr>\n",
       "    <tr>\n",
       "      <th>1767</th>\n",
       "      <td>Equatorial Guinea</td>\n",
       "      <td>2006</td>\n",
       "      <td>33330.805598</td>\n",
       "    </tr>\n",
       "    <tr>\n",
       "      <th>1768</th>\n",
       "      <td>Equatorial Guinea</td>\n",
       "      <td>2005</td>\n",
       "      <td>32389.861726</td>\n",
       "    </tr>\n",
       "    <tr>\n",
       "      <th>1769</th>\n",
       "      <td>Equatorial Guinea</td>\n",
       "      <td>2004</td>\n",
       "      <td>29004.186721</td>\n",
       "    </tr>\n",
       "    <tr>\n",
       "      <th>1770</th>\n",
       "      <td>Equatorial Guinea</td>\n",
       "      <td>2003</td>\n",
       "      <td>21944.697412</td>\n",
       "    </tr>\n",
       "    <tr>\n",
       "      <th>1771</th>\n",
       "      <td>Equatorial Guinea</td>\n",
       "      <td>2002</td>\n",
       "      <td>20084.465030</td>\n",
       "    </tr>\n",
       "    <tr>\n",
       "      <th>1772</th>\n",
       "      <td>Equatorial Guinea</td>\n",
       "      <td>2001</td>\n",
       "      <td>17523.434190</td>\n",
       "    </tr>\n",
       "    <tr>\n",
       "      <th>1773</th>\n",
       "      <td>Equatorial Guinea</td>\n",
       "      <td>2000</td>\n",
       "      <td>11176.500522</td>\n",
       "    </tr>\n",
       "    <tr>\n",
       "      <th>1774</th>\n",
       "      <td>Equatorial Guinea</td>\n",
       "      <td>1999</td>\n",
       "      <td>9851.190917</td>\n",
       "    </tr>\n",
       "    <tr>\n",
       "      <th>1775</th>\n",
       "      <td>Equatorial Guinea</td>\n",
       "      <td>1998</td>\n",
       "      <td>8166.052518</td>\n",
       "    </tr>\n",
       "    <tr>\n",
       "      <th>1776</th>\n",
       "      <td>Equatorial Guinea</td>\n",
       "      <td>1997</td>\n",
       "      <td>6868.480369</td>\n",
       "    </tr>\n",
       "    <tr>\n",
       "      <th>1777</th>\n",
       "      <td>Equatorial Guinea</td>\n",
       "      <td>1996</td>\n",
       "      <td>2857.452417</td>\n",
       "    </tr>\n",
       "    <tr>\n",
       "      <th>1778</th>\n",
       "      <td>Equatorial Guinea</td>\n",
       "      <td>1995</td>\n",
       "      <td>1781.264878</td>\n",
       "    </tr>\n",
       "    <tr>\n",
       "      <th>1779</th>\n",
       "      <td>Equatorial Guinea</td>\n",
       "      <td>1994</td>\n",
       "      <td>1572.065607</td>\n",
       "    </tr>\n",
       "    <tr>\n",
       "      <th>1780</th>\n",
       "      <td>Equatorial Guinea</td>\n",
       "      <td>1993</td>\n",
       "      <td>1395.403468</td>\n",
       "    </tr>\n",
       "    <tr>\n",
       "      <th>1781</th>\n",
       "      <td>Equatorial Guinea</td>\n",
       "      <td>1992</td>\n",
       "      <td>1299.934196</td>\n",
       "    </tr>\n",
       "    <tr>\n",
       "      <th>1782</th>\n",
       "      <td>Equatorial Guinea</td>\n",
       "      <td>1991</td>\n",
       "      <td>996.857617</td>\n",
       "    </tr>\n",
       "    <tr>\n",
       "      <th>1783</th>\n",
       "      <td>Equatorial Guinea</td>\n",
       "      <td>1990</td>\n",
       "      <td>1039.985049</td>\n",
       "    </tr>\n",
       "  </tbody>\n",
       "</table>\n",
       "</div>"
      ],
      "text/plain": [
       "                Country  Year  GDP_Per_Capita\n",
       "1756  Equatorial Guinea  2017    22551.083246\n",
       "1757  Equatorial Guinea  2016    24827.072978\n",
       "1758  Equatorial Guinea  2015    28313.602763\n",
       "1759  Equatorial Guinea  2014    32436.466793\n",
       "1760  Equatorial Guinea  2013    33678.706547\n",
       "1761  Equatorial Guinea  2012    36671.357436\n",
       "1762  Equatorial Guinea  2011    35378.023284\n",
       "1763  Equatorial Guinea  2010    34732.255956\n",
       "1764  Equatorial Guinea  2009    39913.732604\n",
       "1765  Equatorial Guinea  2008    41249.438662\n",
       "1766  Equatorial Guinea  2007    36685.298706\n",
       "1767  Equatorial Guinea  2006    33330.805598\n",
       "1768  Equatorial Guinea  2005    32389.861726\n",
       "1769  Equatorial Guinea  2004    29004.186721\n",
       "1770  Equatorial Guinea  2003    21944.697412\n",
       "1771  Equatorial Guinea  2002    20084.465030\n",
       "1772  Equatorial Guinea  2001    17523.434190\n",
       "1773  Equatorial Guinea  2000    11176.500522\n",
       "1774  Equatorial Guinea  1999     9851.190917\n",
       "1775  Equatorial Guinea  1998     8166.052518\n",
       "1776  Equatorial Guinea  1997     6868.480369\n",
       "1777  Equatorial Guinea  1996     2857.452417\n",
       "1778  Equatorial Guinea  1995     1781.264878\n",
       "1779  Equatorial Guinea  1994     1572.065607\n",
       "1780  Equatorial Guinea  1993     1395.403468\n",
       "1781  Equatorial Guinea  1992     1299.934196\n",
       "1782  Equatorial Guinea  1991      996.857617\n",
       "1783  Equatorial Guinea  1990     1039.985049"
      ]
     },
     "execution_count": 468,
     "metadata": {},
     "output_type": "execute_result"
    }
   ],
   "source": [
    "Equatorial_Guinea_gdp"
   ]
  },
  {
   "cell_type": "code",
   "execution_count": 469,
   "id": "1b7860ed",
   "metadata": {},
   "outputs": [],
   "source": [
    "China_gdp=gdp_df[gdp_df['Country']=='China'].drop(index= [1162,1163])"
   ]
  },
  {
   "cell_type": "code",
   "execution_count": 470,
   "id": "7efc991c",
   "metadata": {},
   "outputs": [
    {
     "data": {
      "text/html": [
       "<div>\n",
       "<style scoped>\n",
       "    .dataframe tbody tr th:only-of-type {\n",
       "        vertical-align: middle;\n",
       "    }\n",
       "\n",
       "    .dataframe tbody tr th {\n",
       "        vertical-align: top;\n",
       "    }\n",
       "\n",
       "    .dataframe thead th {\n",
       "        text-align: right;\n",
       "    }\n",
       "</style>\n",
       "<table border=\"1\" class=\"dataframe\">\n",
       "  <thead>\n",
       "    <tr style=\"text-align: right;\">\n",
       "      <th></th>\n",
       "      <th>Country</th>\n",
       "      <th>Year</th>\n",
       "      <th>GDP_Per_Capita</th>\n",
       "    </tr>\n",
       "  </thead>\n",
       "  <tbody>\n",
       "    <tr>\n",
       "      <th>1164</th>\n",
       "      <td>China</td>\n",
       "      <td>2017</td>\n",
       "      <td>14344.421239</td>\n",
       "    </tr>\n",
       "    <tr>\n",
       "      <th>1165</th>\n",
       "      <td>China</td>\n",
       "      <td>2016</td>\n",
       "      <td>13487.822482</td>\n",
       "    </tr>\n",
       "    <tr>\n",
       "      <th>1166</th>\n",
       "      <td>China</td>\n",
       "      <td>2015</td>\n",
       "      <td>12691.821553</td>\n",
       "    </tr>\n",
       "    <tr>\n",
       "      <th>1167</th>\n",
       "      <td>China</td>\n",
       "      <td>2014</td>\n",
       "      <td>11917.338496</td>\n",
       "    </tr>\n",
       "    <tr>\n",
       "      <th>1168</th>\n",
       "      <td>China</td>\n",
       "      <td>2013</td>\n",
       "      <td>11149.867559</td>\n",
       "    </tr>\n",
       "    <tr>\n",
       "      <th>1169</th>\n",
       "      <td>China</td>\n",
       "      <td>2012</td>\n",
       "      <td>10397.561415</td>\n",
       "    </tr>\n",
       "    <tr>\n",
       "      <th>1170</th>\n",
       "      <td>China</td>\n",
       "      <td>2011</td>\n",
       "      <td>9686.615290</td>\n",
       "    </tr>\n",
       "    <tr>\n",
       "      <th>1171</th>\n",
       "      <td>China</td>\n",
       "      <td>2010</td>\n",
       "      <td>8884.588031</td>\n",
       "    </tr>\n",
       "    <tr>\n",
       "      <th>1172</th>\n",
       "      <td>China</td>\n",
       "      <td>2009</td>\n",
       "      <td>8069.354638</td>\n",
       "    </tr>\n",
       "    <tr>\n",
       "      <th>1173</th>\n",
       "      <td>China</td>\n",
       "      <td>2008</td>\n",
       "      <td>7412.874363</td>\n",
       "    </tr>\n",
       "    <tr>\n",
       "      <th>1174</th>\n",
       "      <td>China</td>\n",
       "      <td>2007</td>\n",
       "      <td>6795.174012</td>\n",
       "    </tr>\n",
       "    <tr>\n",
       "      <th>1175</th>\n",
       "      <td>China</td>\n",
       "      <td>2006</td>\n",
       "      <td>5979.781712</td>\n",
       "    </tr>\n",
       "    <tr>\n",
       "      <th>1176</th>\n",
       "      <td>China</td>\n",
       "      <td>2005</td>\n",
       "      <td>5334.646639</td>\n",
       "    </tr>\n",
       "    <tr>\n",
       "      <th>1177</th>\n",
       "      <td>China</td>\n",
       "      <td>2004</td>\n",
       "      <td>4817.211845</td>\n",
       "    </tr>\n",
       "    <tr>\n",
       "      <th>1178</th>\n",
       "      <td>China</td>\n",
       "      <td>2003</td>\n",
       "      <td>4400.825183</td>\n",
       "    </tr>\n",
       "    <tr>\n",
       "      <th>1179</th>\n",
       "      <td>China</td>\n",
       "      <td>2002</td>\n",
       "      <td>4024.355697</td>\n",
       "    </tr>\n",
       "    <tr>\n",
       "      <th>1180</th>\n",
       "      <td>China</td>\n",
       "      <td>2001</td>\n",
       "      <td>3712.338132</td>\n",
       "    </tr>\n",
       "    <tr>\n",
       "      <th>1181</th>\n",
       "      <td>China</td>\n",
       "      <td>2000</td>\n",
       "      <td>3451.679231</td>\n",
       "    </tr>\n",
       "    <tr>\n",
       "      <th>1182</th>\n",
       "      <td>China</td>\n",
       "      <td>1999</td>\n",
       "      <td>3206.730026</td>\n",
       "    </tr>\n",
       "    <tr>\n",
       "      <th>1183</th>\n",
       "      <td>China</td>\n",
       "      <td>1998</td>\n",
       "      <td>3004.427342</td>\n",
       "    </tr>\n",
       "    <tr>\n",
       "      <th>1184</th>\n",
       "      <td>China</td>\n",
       "      <td>1997</td>\n",
       "      <td>2812.711135</td>\n",
       "    </tr>\n",
       "    <tr>\n",
       "      <th>1185</th>\n",
       "      <td>China</td>\n",
       "      <td>1996</td>\n",
       "      <td>2601.363426</td>\n",
       "    </tr>\n",
       "    <tr>\n",
       "      <th>1186</th>\n",
       "      <td>China</td>\n",
       "      <td>1995</td>\n",
       "      <td>2391.477116</td>\n",
       "    </tr>\n",
       "    <tr>\n",
       "      <th>1187</th>\n",
       "      <td>China</td>\n",
       "      <td>1994</td>\n",
       "      <td>2178.924057</td>\n",
       "    </tr>\n",
       "    <tr>\n",
       "      <th>1188</th>\n",
       "      <td>China</td>\n",
       "      <td>1993</td>\n",
       "      <td>1949.534268</td>\n",
       "    </tr>\n",
       "    <tr>\n",
       "      <th>1189</th>\n",
       "      <td>China</td>\n",
       "      <td>1992</td>\n",
       "      <td>1731.657215</td>\n",
       "    </tr>\n",
       "    <tr>\n",
       "      <th>1190</th>\n",
       "      <td>China</td>\n",
       "      <td>1991</td>\n",
       "      <td>1534.705272</td>\n",
       "    </tr>\n",
       "    <tr>\n",
       "      <th>1191</th>\n",
       "      <td>China</td>\n",
       "      <td>1990</td>\n",
       "      <td>1423.896348</td>\n",
       "    </tr>\n",
       "  </tbody>\n",
       "</table>\n",
       "</div>"
      ],
      "text/plain": [
       "     Country  Year  GDP_Per_Capita\n",
       "1164   China  2017    14344.421239\n",
       "1165   China  2016    13487.822482\n",
       "1166   China  2015    12691.821553\n",
       "1167   China  2014    11917.338496\n",
       "1168   China  2013    11149.867559\n",
       "1169   China  2012    10397.561415\n",
       "1170   China  2011     9686.615290\n",
       "1171   China  2010     8884.588031\n",
       "1172   China  2009     8069.354638\n",
       "1173   China  2008     7412.874363\n",
       "1174   China  2007     6795.174012\n",
       "1175   China  2006     5979.781712\n",
       "1176   China  2005     5334.646639\n",
       "1177   China  2004     4817.211845\n",
       "1178   China  2003     4400.825183\n",
       "1179   China  2002     4024.355697\n",
       "1180   China  2001     3712.338132\n",
       "1181   China  2000     3451.679231\n",
       "1182   China  1999     3206.730026\n",
       "1183   China  1998     3004.427342\n",
       "1184   China  1997     2812.711135\n",
       "1185   China  1996     2601.363426\n",
       "1186   China  1995     2391.477116\n",
       "1187   China  1994     2178.924057\n",
       "1188   China  1993     1949.534268\n",
       "1189   China  1992     1731.657215\n",
       "1190   China  1991     1534.705272\n",
       "1191   China  1990     1423.896348"
      ]
     },
     "execution_count": 470,
     "metadata": {},
     "output_type": "execute_result"
    }
   ],
   "source": [
    "China_gdp"
   ]
  },
  {
   "cell_type": "code",
   "execution_count": 471,
   "id": "17174d74",
   "metadata": {},
   "outputs": [
    {
     "data": {
      "text/plain": [
       "<AxesSubplot:title={'center':'GDP Per Capita from 1990-2017 for EquatorialGuinea'}, xlabel='Year'>"
      ]
     },
     "execution_count": 471,
     "metadata": {},
     "output_type": "execute_result"
    },
    {
     "data": {
      "image/png": "[encoded data removed]",
      "text/plain": [
       "<Figure size 432x288 with 1 Axes>"
      ]
     },
     "metadata": {
      "needs_background": "light"
     },
     "output_type": "display_data"
    }
   ],
   "source": [
    "Equatorial_Guinea_gdp.plot(x= 'Year', y= 'GDP_Per_Capita', kind='line', title= 'GDP Per Capita from 1990-2017 for EquatorialGuinea')"
   ]
  },
  {
   "cell_type": "code",
   "execution_count": 472,
   "id": "58f5f86c",
   "metadata": {},
   "outputs": [
    {
     "data": {
      "text/plain": [
       "<AxesSubplot:title={'center':'Chinese GDP Per Capita from 1990-2017'}, xlabel='Year'>"
      ]
     },
     "execution_count": 472,
     "metadata": {},
     "output_type": "execute_result"
    },
    {
     "data": {
      "image/png": "[encoded data removed]",
      "text/plain": [
       "<Figure size 432x288 with 1 Axes>"
      ]
     },
     "metadata": {
      "needs_background": "light"
     },
     "output_type": "display_data"
    }
   ],
   "source": [
    "China_gdp.plot(x= 'Year', y= 'GDP_Per_Capita', kind='line', title= 'Chinese GDP Per Capita from 1990-2017')"
   ]
  },
  {
   "cell_type": "code",
   "execution_count": 473,
   "id": "50eaf8d2",
   "metadata": {},
   "outputs": [
    {
     "data": {
      "text/plain": [
       "<AxesSubplot:xlabel='Year'>"
      ]
     },
     "execution_count": 473,
     "metadata": {},
     "output_type": "execute_result"
    },
    {
     "data": {
      "image/png": "[encoded data removed]",
      "text/plain": [
       "<Figure size 432x288 with 1 Axes>"
      ]
     },
     "metadata": {
      "needs_background": "light"
     },
     "output_type": "display_data"
    },
    {
     "data": {
      "image/png": "[encoded data removed]",
      "text/plain": [
       "<Figure size 432x288 with 1 Axes>"
      ]
     },
     "metadata": {
      "needs_background": "light"
     },
     "output_type": "display_data"
    }
   ],
   "source": [
    "Equatorial_Guinea_gdp.plot(x= 'Year', y= 'GDP_Per_Capita', kind='line', title= 'GDP Per Capita from 1990-2017 for EquatorialGuinea and China')\n",
    "China_gdp.plot(x= 'Year', y= 'GDP_Per_Capita', kind='line')"
   ]
  },
  {
   "cell_type": "code",
   "execution_count": null,
   "id": "8b68f600",
   "metadata": {},
   "outputs": [],
   "source": []
  },
  {
   "cell_type": "code",
   "execution_count": null,
   "id": "108b2128",
   "metadata": {},
   "outputs": [],
   "source": []
  },
  {
   "cell_type": "code",
   "execution_count": null,
   "id": "4b8e80a6",
   "metadata": {},
   "outputs": [],
   "source": []
  },
  {
   "cell_type": "code",
   "execution_count": null,
   "id": "df1af925",
   "metadata": {},
   "outputs": [],
   "source": []
  },
  {
   "cell_type": "markdown",
   "id": "4c54a33d",
   "metadata": {},
   "source": [
    "the below isn't reading in, I'll cross this bridge when I come to it"
   ]
  },
  {
   "cell_type": "code",
   "execution_count": 474,
   "id": "6f3c1049",
   "metadata": {},
   "outputs": [],
   "source": [
    "continents= pd.read_csv('C:/Users/jcran/Documents/data_science/un_exploration-jcrando/data/continents.csv')"
   ]
  },
  {
   "cell_type": "code",
   "execution_count": 475,
   "id": "a66683c1",
   "metadata": {},
   "outputs": [
    {
     "data": {
      "text/html": [
       "<div>\n",
       "<style scoped>\n",
       "    .dataframe tbody tr th:only-of-type {\n",
       "        vertical-align: middle;\n",
       "    }\n",
       "\n",
       "    .dataframe tbody tr th {\n",
       "        vertical-align: top;\n",
       "    }\n",
       "\n",
       "    .dataframe thead th {\n",
       "        text-align: right;\n",
       "    }\n",
       "</style>\n",
       "<table border=\"1\" class=\"dataframe\">\n",
       "  <thead>\n",
       "    <tr style=\"text-align: right;\">\n",
       "      <th></th>\n",
       "      <th>Continent</th>\n",
       "      <th>Country</th>\n",
       "    </tr>\n",
       "  </thead>\n",
       "  <tbody>\n",
       "    <tr>\n",
       "      <th>0</th>\n",
       "      <td>Asia</td>\n",
       "      <td>Afghanistan</td>\n",
       "    </tr>\n",
       "    <tr>\n",
       "      <th>1</th>\n",
       "      <td>Europe</td>\n",
       "      <td>Albania</td>\n",
       "    </tr>\n",
       "    <tr>\n",
       "      <th>2</th>\n",
       "      <td>Africa</td>\n",
       "      <td>Algeria</td>\n",
       "    </tr>\n",
       "    <tr>\n",
       "      <th>3</th>\n",
       "      <td>Europe</td>\n",
       "      <td>Andorra</td>\n",
       "    </tr>\n",
       "    <tr>\n",
       "      <th>4</th>\n",
       "      <td>Africa</td>\n",
       "      <td>Angola</td>\n",
       "    </tr>\n",
       "    <tr>\n",
       "      <th>...</th>\n",
       "      <td>...</td>\n",
       "      <td>...</td>\n",
       "    </tr>\n",
       "    <tr>\n",
       "      <th>211</th>\n",
       "      <td>Asia</td>\n",
       "      <td>Vietnam</td>\n",
       "    </tr>\n",
       "    <tr>\n",
       "      <th>212</th>\n",
       "      <td>Asia</td>\n",
       "      <td>West Bank and Gaza</td>\n",
       "    </tr>\n",
       "    <tr>\n",
       "      <th>213</th>\n",
       "      <td>Asia</td>\n",
       "      <td>Yemen</td>\n",
       "    </tr>\n",
       "    <tr>\n",
       "      <th>214</th>\n",
       "      <td>Africa</td>\n",
       "      <td>Zambia</td>\n",
       "    </tr>\n",
       "    <tr>\n",
       "      <th>215</th>\n",
       "      <td>Africa</td>\n",
       "      <td>Zimbabwe</td>\n",
       "    </tr>\n",
       "  </tbody>\n",
       "</table>\n",
       "<p>216 rows × 2 columns</p>\n",
       "</div>"
      ],
      "text/plain": [
       "    Continent             Country\n",
       "0        Asia         Afghanistan\n",
       "1      Europe             Albania\n",
       "2      Africa             Algeria\n",
       "3      Europe             Andorra\n",
       "4      Africa              Angola\n",
       "..        ...                 ...\n",
       "211      Asia             Vietnam\n",
       "212      Asia  West Bank and Gaza\n",
       "213      Asia               Yemen\n",
       "214    Africa              Zambia\n",
       "215    Africa            Zimbabwe\n",
       "\n",
       "[216 rows x 2 columns]"
      ]
     },
     "execution_count": 475,
     "metadata": {},
     "output_type": "execute_result"
    }
   ],
   "source": [
    "continents"
   ]
  },
  {
   "cell_type": "markdown",
   "id": "e55227f0",
   "metadata": {},
   "source": [
    "On question 19: merge continents and gdp_df"
   ]
  },
  {
   "cell_type": "code",
   "execution_count": 476,
   "id": "63b0a8f2",
   "metadata": {},
   "outputs": [],
   "source": [
    "gdp_df=pd.merge(continents, gdp_df)"
   ]
  },
  {
   "cell_type": "code",
   "execution_count": 477,
   "id": "b21374a4",
   "metadata": {},
   "outputs": [
    {
     "data": {
      "text/html": [
       "<div>\n",
       "<style scoped>\n",
       "    .dataframe tbody tr th:only-of-type {\n",
       "        vertical-align: middle;\n",
       "    }\n",
       "\n",
       "    .dataframe tbody tr th {\n",
       "        vertical-align: top;\n",
       "    }\n",
       "\n",
       "    .dataframe thead th {\n",
       "        text-align: right;\n",
       "    }\n",
       "</style>\n",
       "<table border=\"1\" class=\"dataframe\">\n",
       "  <thead>\n",
       "    <tr style=\"text-align: right;\">\n",
       "      <th></th>\n",
       "      <th>Continent</th>\n",
       "      <th>Country</th>\n",
       "      <th>Year</th>\n",
       "      <th>GDP_Per_Capita</th>\n",
       "    </tr>\n",
       "  </thead>\n",
       "  <tbody>\n",
       "    <tr>\n",
       "      <th>0</th>\n",
       "      <td>Asia</td>\n",
       "      <td>Afghanistan</td>\n",
       "      <td>2019</td>\n",
       "      <td>2065.036398</td>\n",
       "    </tr>\n",
       "    <tr>\n",
       "      <th>1</th>\n",
       "      <td>Asia</td>\n",
       "      <td>Afghanistan</td>\n",
       "      <td>2018</td>\n",
       "      <td>2033.779002</td>\n",
       "    </tr>\n",
       "    <tr>\n",
       "      <th>2</th>\n",
       "      <td>Asia</td>\n",
       "      <td>Afghanistan</td>\n",
       "      <td>2017</td>\n",
       "      <td>2058.383832</td>\n",
       "    </tr>\n",
       "    <tr>\n",
       "      <th>3</th>\n",
       "      <td>Asia</td>\n",
       "      <td>Afghanistan</td>\n",
       "      <td>2016</td>\n",
       "      <td>2057.062164</td>\n",
       "    </tr>\n",
       "    <tr>\n",
       "      <th>4</th>\n",
       "      <td>Asia</td>\n",
       "      <td>Afghanistan</td>\n",
       "      <td>2015</td>\n",
       "      <td>2068.265904</td>\n",
       "    </tr>\n",
       "  </tbody>\n",
       "</table>\n",
       "</div>"
      ],
      "text/plain": [
       "  Continent      Country  Year  GDP_Per_Capita\n",
       "0      Asia  Afghanistan  2019     2065.036398\n",
       "1      Asia  Afghanistan  2018     2033.779002\n",
       "2      Asia  Afghanistan  2017     2058.383832\n",
       "3      Asia  Afghanistan  2016     2057.062164\n",
       "4      Asia  Afghanistan  2015     2068.265904"
      ]
     },
     "execution_count": 477,
     "metadata": {},
     "output_type": "execute_result"
    }
   ],
   "source": [
    "gdp_df.head()"
   ]
  },
  {
   "cell_type": "markdown",
   "id": "0fbdf4ee",
   "metadata": {},
   "source": [
    "20 Determine the number of countries per continent. Create a bar chart showing this."
   ]
  },
  {
   "cell_type": "code",
   "execution_count": 478,
   "id": "6f299940",
   "metadata": {},
   "outputs": [
    {
     "ename": "NameError",
     "evalue": "name 'only_cont_and_coun' is not defined",
     "output_type": "error",
     "traceback": [
      "\u001b[1;31m---------------------------------------------------------------------------\u001b[0m",
      "\u001b[1;31mNameError\u001b[0m                                 Traceback (most recent call last)",
      "\u001b[1;32m<ipython-input-478-9a366806dcb1>\u001b[0m in \u001b[0;36m<module>\u001b[1;34m\u001b[0m\n\u001b[1;32m----> 1\u001b[1;33m \u001b[0mdups_dropped\u001b[0m\u001b[1;33m=\u001b[0m\u001b[0monly_cont_and_coun\u001b[0m\u001b[1;33m.\u001b[0m\u001b[0mdrop_duplicates\u001b[0m\u001b[1;33m(\u001b[0m\u001b[1;33m)\u001b[0m\u001b[1;33m\u001b[0m\u001b[1;33m\u001b[0m\u001b[0m\n\u001b[0m",
      "\u001b[1;31mNameError\u001b[0m: name 'only_cont_and_coun' is not defined"
     ]
    }
   ],
   "source": [
    "dups_dropped=only_cont_and_coun.drop_duplicates()"
   ]
  },
  {
   "cell_type": "code",
   "execution_count": null,
   "id": "1699ae69",
   "metadata": {},
   "outputs": [],
   "source": [
    "answer_for_20=dups_dropped['Continent'].value_counts()"
   ]
  },
  {
   "cell_type": "code",
   "execution_count": null,
   "id": "f16a6ca3",
   "metadata": {},
   "outputs": [],
   "source": [
    "answer_for_20"
   ]
  },
  {
   "cell_type": "code",
   "execution_count": null,
   "id": "d2bc65c0",
   "metadata": {},
   "outputs": [],
   "source": [
    "answer_for_20.plot(kind='bar')"
   ]
  },
  {
   "cell_type": "markdown",
   "id": "632f78e5",
   "metadata": {},
   "source": [
    "Create a seaborn boxplot showing GDP per capita in 2014 split out by continent. What do you notice?\n",
    "answer: I notice that Asia has the most outliers"
   ]
  },
  {
   "cell_type": "code",
   "execution_count": null,
   "id": "3cd6f6dd",
   "metadata": {},
   "outputs": [],
   "source": [
    "GDP2014=gdp_df[gdp_df['Year']==2014]"
   ]
  },
  {
   "cell_type": "code",
   "execution_count": null,
   "id": "02b498bd",
   "metadata": {},
   "outputs": [],
   "source": [
    "GDP2014"
   ]
  },
  {
   "cell_type": "code",
   "execution_count": null,
   "id": "94819ea5",
   "metadata": {},
   "outputs": [],
   "source": [
    "sns.boxplot(y=GDP2014['GDP_Per_Capita'], x= GDP2014['Continent'])"
   ]
  },
  {
   "cell_type": "markdown",
   "id": "e6a360c4",
   "metadata": {},
   "source": [
    "Read in internet_use.csv into a DataFrame called internet_df. You will most likely get an error message when doing this - figure out what is going wrong and fix it. Take a look at the first and last five rows and make any corrections to your read_csv() call to fix this. Again, do not modify the original datasets."
   ]
  },
  {
   "cell_type": "code",
   "execution_count": null,
   "id": "a64d6fe8",
   "metadata": {},
   "outputs": [],
   "source": [
    "internet_df= pd.read_csv('C:/Users/jcran/Documents/data_science/un_exploration-jcrando/data/internet_use.csv')"
   ]
  },
  {
   "cell_type": "code",
   "execution_count": null,
   "id": "f737fb62",
   "metadata": {},
   "outputs": [],
   "source": [
    "internet_df=pd.read_csv('C:/Users/jcran/Documents/data_science/un_exploration-jcrando/data/internet_use.csv', names=['item'+str(i) for i in range(5)])"
   ]
  },
  {
   "cell_type": "code",
   "execution_count": null,
   "id": "f38a98c6",
   "metadata": {},
   "outputs": [],
   "source": [
    "internet_df"
   ]
  },
  {
   "cell_type": "markdown",
   "id": "bf66c990",
   "metadata": {},
   "source": [
    "use .iloc to keep what you want instead of using .drop to get rid of what you don't want"
   ]
  },
  {
   "cell_type": "code",
   "execution_count": null,
   "id": "dfcbc530",
   "metadata": {},
   "outputs": [],
   "source": [
    "internet_df=internet_df.iloc[:4496]"
   ]
  },
  {
   "cell_type": "markdown",
   "id": "1db79fc4",
   "metadata": {},
   "source": [
    "23\n",
    "Drop the Value Footnotes column and then rename the columns to ‘Country’, ‘Year’, and ‘Internet_Users_Pct’."
   ]
  },
  {
   "cell_type": "code",
   "execution_count": null,
   "id": "c385e9b4",
   "metadata": {},
   "outputs": [],
   "source": [
    "internet_df=internet_df.drop(columns=['item3','item4' ])"
   ]
  },
  {
   "cell_type": "code",
   "execution_count": null,
   "id": "fd41cb6e",
   "metadata": {},
   "outputs": [],
   "source": [
    "internet_df=internet_df.drop(index=[0])"
   ]
  },
  {
   "cell_type": "code",
   "execution_count": null,
   "id": "28c542a6",
   "metadata": {},
   "outputs": [],
   "source": [
    "internet_df.columns=['Country', 'Year', 'Internet_Users_Pct' ]"
   ]
  },
  {
   "cell_type": "code",
   "execution_count": null,
   "id": "88760d74",
   "metadata": {},
   "outputs": [],
   "source": [
    "internet_df"
   ]
  },
  {
   "cell_type": "markdown",
   "id": "a25b5ced",
   "metadata": {},
   "source": [
    "24\n",
    "\n",
    "How many rows and columns does this new dataset have? What are the types of its columns? Ensure that the Internet_Users_Pct column is a numeric data type and fix it if it is not.\n",
    "\n",
    "answer: there are 3 columns and 4495 rows"
   ]
  },
  {
   "cell_type": "code",
   "execution_count": null,
   "id": "e24be0c8",
   "metadata": {},
   "outputs": [],
   "source": [
    "internet_df.info()"
   ]
  },
  {
   "cell_type": "code",
   "execution_count": null,
   "id": "b72d0eb0",
   "metadata": {},
   "outputs": [],
   "source": [
    "pd.to_numeric(internet_df['Internet_Users_Pct']) "
   ]
  },
  {
   "cell_type": "code",
   "execution_count": null,
   "id": "ec96a9dc",
   "metadata": {},
   "outputs": [],
   "source": [
    "internet_df[\"Internet_Users_Pct\"]= pd.to_numeric(internet_df['Internet_Users_Pct']) "
   ]
  },
  {
   "cell_type": "code",
   "execution_count": null,
   "id": "08ca49db",
   "metadata": {},
   "outputs": [],
   "source": [
    "internet_df.info()"
   ]
  },
  {
   "cell_type": "markdown",
   "id": "6f33fd6c",
   "metadata": {},
   "source": [
    "25\n",
    "\n",
    "What is the first year that has a nonzero internet users percentage reported? What is the general trend in internet users percentage over the years. Pick a visualization that you think illustrates this trend well.\n",
    "\n",
    "I picked a line plot for a few countries the trend for all is that percent usage has increased"
   ]
  },
  {
   "cell_type": "code",
   "execution_count": null,
   "id": "b0a3d9e9",
   "metadata": {},
   "outputs": [],
   "source": [
    "internet_df.sort_values('Year')"
   ]
  },
  {
   "cell_type": "code",
   "execution_count": null,
   "id": "2a3b6064",
   "metadata": {},
   "outputs": [],
   "source": [
    "sort_values_IDF=internet_df.sort_values('Year')"
   ]
  },
  {
   "cell_type": "code",
   "execution_count": null,
   "id": "2472e270",
   "metadata": {},
   "outputs": [],
   "source": [
    "sort_values_IDF[sort_values_IDF['Internet_Users_Pct']>0]"
   ]
  },
  {
   "cell_type": "code",
   "execution_count": null,
   "id": "2e73d07b",
   "metadata": {},
   "outputs": [],
   "source": [
    "SVIDF_first_year=sort_values_IDF[sort_values_IDF['Internet_Users_Pct']>0]"
   ]
  },
  {
   "cell_type": "code",
   "execution_count": null,
   "id": "df57f651",
   "metadata": {},
   "outputs": [],
   "source": [
    "SVIDF_first_year[SVIDF_first_year['Country']=='United States']"
   ]
  },
  {
   "cell_type": "code",
   "execution_count": null,
   "id": "017e90db",
   "metadata": {},
   "outputs": [],
   "source": [
    "SVIDF_first_year_US= SVIDF_first_year[SVIDF_first_year['Country']=='United States']"
   ]
  },
  {
   "cell_type": "code",
   "execution_count": null,
   "id": "a543e2a9",
   "metadata": {},
   "outputs": [],
   "source": [
    "SVIDF_first_year_US.plot(kind='line', x='Year', y= 'Internet_Users_Pct')"
   ]
  },
  {
   "cell_type": "code",
   "execution_count": null,
   "id": "4683445b",
   "metadata": {},
   "outputs": [],
   "source": [
    "SVIDF_first_year_AF= SVIDF_first_year[SVIDF_first_year['Country']=='Afghanistan'].plot(kind='line', x='Year', y= 'Internet_Users_Pct')"
   ]
  },
  {
   "cell_type": "markdown",
   "id": "3defbcdd",
   "metadata": {},
   "source": [
    "Merge gdp_df and internet_df (on Country and Year) into a single DataFrame named gdp_and_internet_use. Keep only countries and years that appear in both tables."
   ]
  },
  {
   "cell_type": "code",
   "execution_count": null,
   "id": "90b84bd1",
   "metadata": {},
   "outputs": [],
   "source": [
    "gdp_df.info()"
   ]
  },
  {
   "cell_type": "code",
   "execution_count": null,
   "id": "9700e8b3",
   "metadata": {},
   "outputs": [],
   "source": [
    "internet_df.info()"
   ]
  },
  {
   "cell_type": "code",
   "execution_count": null,
   "id": "2505f81e",
   "metadata": {},
   "outputs": [],
   "source": [
    "internet_df['Year']=pd.to_numeric(internet_df['Year']) "
   ]
  },
  {
   "cell_type": "code",
   "execution_count": null,
   "id": "f2c9d1d9",
   "metadata": {},
   "outputs": [],
   "source": [
    "gdp_and_internet_use=pd.merge(internet_df, gdp_df,  on= ['Country','Year'])"
   ]
  },
  {
   "cell_type": "code",
   "execution_count": null,
   "id": "3a7dba9b",
   "metadata": {},
   "outputs": [],
   "source": [
    "gdp_and_internet_use"
   ]
  },
  {
   "cell_type": "markdown",
   "id": "f688518c",
   "metadata": {},
   "source": [
    "Create a new DataFrame, named gdp_and_internet_use_2014 by extracting data for the year 2014 from gdp_and_internet_use. How many countries have at least 90% internet users in 2014?\n",
    "\n",
    "\n",
    "answer: 13\n"
   ]
  },
  {
   "cell_type": "code",
   "execution_count": null,
   "id": "9ab7b732",
   "metadata": {},
   "outputs": [],
   "source": [
    "gdp_and_internet_use_2014 =gdp_and_internet_use[gdp_and_internet_use['Year']==2014]"
   ]
  },
  {
   "cell_type": "code",
   "execution_count": null,
   "id": "746da75a",
   "metadata": {},
   "outputs": [],
   "source": [
    "gdp_and_internet_use_2014[gdp_and_internet_use_2014['Internet_Users_Pct']>=90]"
   ]
  },
  {
   "cell_type": "code",
   "execution_count": null,
   "id": "88de8278",
   "metadata": {},
   "outputs": [],
   "source": [
    "gdp_and_internet_use_2014[gdp_and_internet_use_2014['Internet_Users_Pct']>=90].count()"
   ]
  },
  {
   "cell_type": "markdown",
   "id": "422f1f24",
   "metadata": {},
   "source": [
    "Find the countries that had the top 3 largest GDP per capita figures for 2014. (answer: Luxembourg, Qatar, Singapore)\n",
    "\n",
    "Create a seaborn FacetGrid showing the change in internet user percentage over time for these three countries. Each individual figure in the facet grid will represent a single country. What trends do you notice?\n",
    "\n"
   ]
  },
  {
   "cell_type": "code",
   "execution_count": null,
   "id": "a45e349f",
   "metadata": {},
   "outputs": [],
   "source": [
    "sns.FacetGrid(gdp_and_internet_use_2014)"
   ]
  },
  {
   "cell_type": "code",
   "execution_count": null,
   "id": "71076d20",
   "metadata": {
    "scrolled": true
   },
   "outputs": [],
   "source": [
    "gdp_and_internet_use_2014.sort_values('GDP_Per_Capita')"
   ]
  },
  {
   "cell_type": "code",
   "execution_count": null,
   "id": "e21e2f43",
   "metadata": {},
   "outputs": [],
   "source": [
    "gdp_and_internet_lean=gdp_and_internet_use.drop(columns=['Continent', 'GDP_Per_Capita'])"
   ]
  },
  {
   "cell_type": "code",
   "execution_count": 498,
   "id": "bd635107",
   "metadata": {},
   "outputs": [],
   "source": [
    "gdp_and_internet_use_2014_year_internet= gdp_and_internet_use_2014.drop(columns= ['Continent', 'GDP_Per_Capita','Log_of_GDP'])"
   ]
  },
  {
   "cell_type": "code",
   "execution_count": 499,
   "id": "910dffb5",
   "metadata": {},
   "outputs": [
    {
     "data": {
      "text/html": [
       "<div>\n",
       "<style scoped>\n",
       "    .dataframe tbody tr th:only-of-type {\n",
       "        vertical-align: middle;\n",
       "    }\n",
       "\n",
       "    .dataframe tbody tr th {\n",
       "        vertical-align: top;\n",
       "    }\n",
       "\n",
       "    .dataframe thead th {\n",
       "        text-align: right;\n",
       "    }\n",
       "</style>\n",
       "<table border=\"1\" class=\"dataframe\">\n",
       "  <thead>\n",
       "    <tr style=\"text-align: right;\">\n",
       "      <th></th>\n",
       "      <th>Country</th>\n",
       "      <th>Year</th>\n",
       "      <th>Internet_Users_Pct</th>\n",
       "    </tr>\n",
       "  </thead>\n",
       "  <tbody>\n",
       "    <tr>\n",
       "      <th>1798</th>\n",
       "      <td>Luxembourg</td>\n",
       "      <td>2014</td>\n",
       "      <td>94.67</td>\n",
       "    </tr>\n",
       "    <tr>\n",
       "      <th>2542</th>\n",
       "      <td>Qatar</td>\n",
       "      <td>2014</td>\n",
       "      <td>91.49</td>\n",
       "    </tr>\n",
       "    <tr>\n",
       "      <th>2751</th>\n",
       "      <td>Singapore</td>\n",
       "      <td>2014</td>\n",
       "      <td>82.00</td>\n",
       "    </tr>\n",
       "  </tbody>\n",
       "</table>\n",
       "</div>"
      ],
      "text/plain": [
       "         Country  Year  Internet_Users_Pct\n",
       "1798  Luxembourg  2014               94.67\n",
       "2542       Qatar  2014               91.49\n",
       "2751   Singapore  2014               82.00"
      ]
     },
     "execution_count": 499,
     "metadata": {},
     "output_type": "execute_result"
    }
   ],
   "source": [
    "gdp_and_internet_use_2014_year_internet[gdp_and_internet_use_2014_year_internet['Country'].isin(['Singapore', 'Luxembourg', 'Qatar'])]"
   ]
  },
  {
   "cell_type": "code",
   "execution_count": 500,
   "id": "bcf9eccf",
   "metadata": {},
   "outputs": [],
   "source": [
    "gdp_and_internet_use_2014_year_internet_S_L_Q=gdp_and_internet_use_2014_year_internet[gdp_and_internet_use_2014_year_internet['Country'].isin(['Singapore', 'Luxembourg', 'Qatar'])]"
   ]
  },
  {
   "cell_type": "code",
   "execution_count": 501,
   "id": "73fb8869",
   "metadata": {},
   "outputs": [
    {
     "data": {
      "text/html": [
       "<div>\n",
       "<style scoped>\n",
       "    .dataframe tbody tr th:only-of-type {\n",
       "        vertical-align: middle;\n",
       "    }\n",
       "\n",
       "    .dataframe tbody tr th {\n",
       "        vertical-align: top;\n",
       "    }\n",
       "\n",
       "    .dataframe thead th {\n",
       "        text-align: right;\n",
       "    }\n",
       "</style>\n",
       "<table border=\"1\" class=\"dataframe\">\n",
       "  <thead>\n",
       "    <tr style=\"text-align: right;\">\n",
       "      <th></th>\n",
       "      <th>Country</th>\n",
       "      <th>Year</th>\n",
       "      <th>Internet_Users_Pct</th>\n",
       "    </tr>\n",
       "  </thead>\n",
       "  <tbody>\n",
       "    <tr>\n",
       "      <th>1798</th>\n",
       "      <td>Luxembourg</td>\n",
       "      <td>2014</td>\n",
       "      <td>94.67</td>\n",
       "    </tr>\n",
       "    <tr>\n",
       "      <th>2542</th>\n",
       "      <td>Qatar</td>\n",
       "      <td>2014</td>\n",
       "      <td>91.49</td>\n",
       "    </tr>\n",
       "    <tr>\n",
       "      <th>2751</th>\n",
       "      <td>Singapore</td>\n",
       "      <td>2014</td>\n",
       "      <td>82.00</td>\n",
       "    </tr>\n",
       "  </tbody>\n",
       "</table>\n",
       "</div>"
      ],
      "text/plain": [
       "         Country  Year  Internet_Users_Pct\n",
       "1798  Luxembourg  2014               94.67\n",
       "2542       Qatar  2014               91.49\n",
       "2751   Singapore  2014               82.00"
      ]
     },
     "execution_count": 501,
     "metadata": {},
     "output_type": "execute_result"
    }
   ],
   "source": [
    "gdp_and_internet_use_2014_year_internet_S_L_Q"
   ]
  },
  {
   "cell_type": "code",
   "execution_count": 492,
   "id": "e1e22076",
   "metadata": {},
   "outputs": [
    {
     "data": {
      "text/html": [
       "<div>\n",
       "<style scoped>\n",
       "    .dataframe tbody tr th:only-of-type {\n",
       "        vertical-align: middle;\n",
       "    }\n",
       "\n",
       "    .dataframe tbody tr th {\n",
       "        vertical-align: top;\n",
       "    }\n",
       "\n",
       "    .dataframe thead th {\n",
       "        text-align: right;\n",
       "    }\n",
       "</style>\n",
       "<table border=\"1\" class=\"dataframe\">\n",
       "  <thead>\n",
       "    <tr style=\"text-align: right;\">\n",
       "      <th></th>\n",
       "      <th>Country</th>\n",
       "      <th>Internet_Users_Pct</th>\n",
       "      <th>GDP_Per_Capita</th>\n",
       "    </tr>\n",
       "  </thead>\n",
       "  <tbody>\n",
       "    <tr>\n",
       "      <th>1798</th>\n",
       "      <td>Luxembourg</td>\n",
       "      <td>94.67</td>\n",
       "      <td>108760.916030</td>\n",
       "    </tr>\n",
       "    <tr>\n",
       "      <th>2542</th>\n",
       "      <td>Qatar</td>\n",
       "      <td>91.49</td>\n",
       "      <td>95578.416973</td>\n",
       "    </tr>\n",
       "    <tr>\n",
       "      <th>2751</th>\n",
       "      <td>Singapore</td>\n",
       "      <td>82.00</td>\n",
       "      <td>87808.663157</td>\n",
       "    </tr>\n",
       "  </tbody>\n",
       "</table>\n",
       "</div>"
      ],
      "text/plain": [
       "         Country  Internet_Users_Pct  GDP_Per_Capita\n",
       "1798  Luxembourg               94.67   108760.916030\n",
       "2542       Qatar               91.49    95578.416973\n",
       "2751   Singapore               82.00    87808.663157"
      ]
     },
     "execution_count": 492,
     "metadata": {},
     "output_type": "execute_result"
    }
   ],
   "source": [
    "gdp_and_internet_use_2014_lean[gdp_and_internet_use_2014_lean['Country'].isin(['Singapore', 'Luxembourg', 'Qatar'])]"
   ]
  },
  {
   "cell_type": "code",
   "execution_count": 493,
   "id": "720e8207",
   "metadata": {},
   "outputs": [],
   "source": [
    "gdp_and_internet_use_2014_lean_Sing_Lux_Qat= gdp_and_internet_use_2014_lean[gdp_and_internet_use_2014_lean['Country'].isin(['Singapore', 'Luxembourg', 'Qatar'])]"
   ]
  },
  {
   "cell_type": "code",
   "execution_count": 494,
   "id": "391035fb",
   "metadata": {},
   "outputs": [
    {
     "data": {
      "text/html": [
       "<div>\n",
       "<style scoped>\n",
       "    .dataframe tbody tr th:only-of-type {\n",
       "        vertical-align: middle;\n",
       "    }\n",
       "\n",
       "    .dataframe tbody tr th {\n",
       "        vertical-align: top;\n",
       "    }\n",
       "\n",
       "    .dataframe thead th {\n",
       "        text-align: right;\n",
       "    }\n",
       "</style>\n",
       "<table border=\"1\" class=\"dataframe\">\n",
       "  <thead>\n",
       "    <tr style=\"text-align: right;\">\n",
       "      <th></th>\n",
       "      <th>Country</th>\n",
       "      <th>Internet_Users_Pct</th>\n",
       "      <th>GDP_Per_Capita</th>\n",
       "    </tr>\n",
       "  </thead>\n",
       "  <tbody>\n",
       "    <tr>\n",
       "      <th>1798</th>\n",
       "      <td>Luxembourg</td>\n",
       "      <td>94.67</td>\n",
       "      <td>108760.916030</td>\n",
       "    </tr>\n",
       "    <tr>\n",
       "      <th>2542</th>\n",
       "      <td>Qatar</td>\n",
       "      <td>91.49</td>\n",
       "      <td>95578.416973</td>\n",
       "    </tr>\n",
       "    <tr>\n",
       "      <th>2751</th>\n",
       "      <td>Singapore</td>\n",
       "      <td>82.00</td>\n",
       "      <td>87808.663157</td>\n",
       "    </tr>\n",
       "  </tbody>\n",
       "</table>\n",
       "</div>"
      ],
      "text/plain": [
       "         Country  Internet_Users_Pct  GDP_Per_Capita\n",
       "1798  Luxembourg               94.67   108760.916030\n",
       "2542       Qatar               91.49    95578.416973\n",
       "2751   Singapore               82.00    87808.663157"
      ]
     },
     "execution_count": 494,
     "metadata": {},
     "output_type": "execute_result"
    }
   ],
   "source": [
    "gdp_and_internet_use_2014_lean_Sing_Lux_Qat"
   ]
  },
  {
   "cell_type": "code",
   "execution_count": null,
   "id": "f2b0731b",
   "metadata": {},
   "outputs": [],
   "source": []
  },
  {
   "cell_type": "code",
   "execution_count": 488,
   "id": "e9771d80",
   "metadata": {},
   "outputs": [
    {
     "data": {
      "text/html": [
       "<div>\n",
       "<style scoped>\n",
       "    .dataframe tbody tr th:only-of-type {\n",
       "        vertical-align: middle;\n",
       "    }\n",
       "\n",
       "    .dataframe tbody tr th {\n",
       "        vertical-align: top;\n",
       "    }\n",
       "\n",
       "    .dataframe thead th {\n",
       "        text-align: right;\n",
       "    }\n",
       "</style>\n",
       "<table border=\"1\" class=\"dataframe\">\n",
       "  <thead>\n",
       "    <tr style=\"text-align: right;\">\n",
       "      <th></th>\n",
       "      <th>Country</th>\n",
       "      <th>Year</th>\n",
       "      <th>Internet_Users_Pct</th>\n",
       "      <th>Continent</th>\n",
       "      <th>GDP_Per_Capita</th>\n",
       "      <th>Log_of_GDP</th>\n",
       "    </tr>\n",
       "  </thead>\n",
       "  <tbody>\n",
       "    <tr>\n",
       "      <th>0</th>\n",
       "      <td>Afghanistan</td>\n",
       "      <td>2014</td>\n",
       "      <td>6.39</td>\n",
       "      <td>Asia</td>\n",
       "      <td>2102.385234</td>\n",
       "      <td>7.650828</td>\n",
       "    </tr>\n",
       "    <tr>\n",
       "      <th>13</th>\n",
       "      <td>Albania</td>\n",
       "      <td>2014</td>\n",
       "      <td>60.10</td>\n",
       "      <td>Europe</td>\n",
       "      <td>11623.866679</td>\n",
       "      <td>9.360816</td>\n",
       "    </tr>\n",
       "    <tr>\n",
       "      <th>34</th>\n",
       "      <td>Algeria</td>\n",
       "      <td>2014</td>\n",
       "      <td>18.09</td>\n",
       "      <td>Africa</td>\n",
       "      <td>11512.705405</td>\n",
       "      <td>9.351207</td>\n",
       "    </tr>\n",
       "    <tr>\n",
       "      <th>56</th>\n",
       "      <td>Angola</td>\n",
       "      <td>2014</td>\n",
       "      <td>21.26</td>\n",
       "      <td>Africa</td>\n",
       "      <td>8239.828837</td>\n",
       "      <td>9.016735</td>\n",
       "    </tr>\n",
       "    <tr>\n",
       "      <th>76</th>\n",
       "      <td>Antigua and Barbuda</td>\n",
       "      <td>2014</td>\n",
       "      <td>64.00</td>\n",
       "      <td>North America</td>\n",
       "      <td>18104.241470</td>\n",
       "      <td>9.803902</td>\n",
       "    </tr>\n",
       "    <tr>\n",
       "      <th>...</th>\n",
       "      <td>...</td>\n",
       "      <td>...</td>\n",
       "      <td>...</td>\n",
       "      <td>...</td>\n",
       "      <td>...</td>\n",
       "      <td>...</td>\n",
       "    </tr>\n",
       "    <tr>\n",
       "      <th>3351</th>\n",
       "      <td>Uruguay</td>\n",
       "      <td>2014</td>\n",
       "      <td>61.46</td>\n",
       "      <td>South America</td>\n",
       "      <td>20582.168953</td>\n",
       "      <td>9.932180</td>\n",
       "    </tr>\n",
       "    <tr>\n",
       "      <th>3373</th>\n",
       "      <td>Uzbekistan</td>\n",
       "      <td>2014</td>\n",
       "      <td>43.55</td>\n",
       "      <td>Asia</td>\n",
       "      <td>5764.492705</td>\n",
       "      <td>8.659472</td>\n",
       "    </tr>\n",
       "    <tr>\n",
       "      <th>3394</th>\n",
       "      <td>Vanuatu</td>\n",
       "      <td>2014</td>\n",
       "      <td>18.80</td>\n",
       "      <td>Oceania</td>\n",
       "      <td>3116.077025</td>\n",
       "      <td>8.044330</td>\n",
       "    </tr>\n",
       "    <tr>\n",
       "      <th>3414</th>\n",
       "      <td>Zambia</td>\n",
       "      <td>2014</td>\n",
       "      <td>17.34</td>\n",
       "      <td>Africa</td>\n",
       "      <td>3450.046561</td>\n",
       "      <td>8.146143</td>\n",
       "    </tr>\n",
       "    <tr>\n",
       "      <th>3436</th>\n",
       "      <td>Zimbabwe</td>\n",
       "      <td>2014</td>\n",
       "      <td>19.89</td>\n",
       "      <td>Africa</td>\n",
       "      <td>2955.240287</td>\n",
       "      <td>7.991335</td>\n",
       "    </tr>\n",
       "  </tbody>\n",
       "</table>\n",
       "<p>163 rows × 6 columns</p>\n",
       "</div>"
      ],
      "text/plain": [
       "                  Country  Year  Internet_Users_Pct      Continent  \\\n",
       "0             Afghanistan  2014                6.39           Asia   \n",
       "13                Albania  2014               60.10         Europe   \n",
       "34                Algeria  2014               18.09         Africa   \n",
       "56                 Angola  2014               21.26         Africa   \n",
       "76    Antigua and Barbuda  2014               64.00  North America   \n",
       "...                   ...   ...                 ...            ...   \n",
       "3351              Uruguay  2014               61.46  South America   \n",
       "3373           Uzbekistan  2014               43.55           Asia   \n",
       "3394              Vanuatu  2014               18.80        Oceania   \n",
       "3414               Zambia  2014               17.34         Africa   \n",
       "3436             Zimbabwe  2014               19.89         Africa   \n",
       "\n",
       "      GDP_Per_Capita  Log_of_GDP  \n",
       "0        2102.385234    7.650828  \n",
       "13      11623.866679    9.360816  \n",
       "34      11512.705405    9.351207  \n",
       "56       8239.828837    9.016735  \n",
       "76      18104.241470    9.803902  \n",
       "...              ...         ...  \n",
       "3351    20582.168953    9.932180  \n",
       "3373     5764.492705    8.659472  \n",
       "3394     3116.077025    8.044330  \n",
       "3414     3450.046561    8.146143  \n",
       "3436     2955.240287    7.991335  \n",
       "\n",
       "[163 rows x 6 columns]"
      ]
     },
     "execution_count": 488,
     "metadata": {},
     "output_type": "execute_result"
    }
   ],
   "source": [
    "gdp_and_internet_use_2014"
   ]
  },
  {
   "cell_type": "code",
   "execution_count": null,
   "id": "aace58b4",
   "metadata": {},
   "outputs": [],
   "source": [
    "gdp_and_internet_lean[gdp_and_internet_lean['Country']=='Luxembourg'].plot(x= 'Year', y= 'Internet_Users_Pct', kind='line')"
   ]
  },
  {
   "cell_type": "code",
   "execution_count": null,
   "id": "dabe7ac8",
   "metadata": {},
   "outputs": [],
   "source": [
    "gdp_and_internet_lean[gdp_and_internet_lean['Country']=='Luxembourg']"
   ]
  },
  {
   "cell_type": "code",
   "execution_count": null,
   "id": "2433e4a0",
   "metadata": {},
   "outputs": [],
   "source": [
    "gdp_and_internet_lean[gdp_and_internet_lean['Country']=='Qatar'].plot(x= 'Year', y= 'Internet_Users_Pct', kind='line')"
   ]
  },
  {
   "cell_type": "code",
   "execution_count": null,
   "id": "220fdff5",
   "metadata": {},
   "outputs": [],
   "source": [
    "gdp_and_internet_lean[gdp_and_internet_lean['Country']=='Singapore'].plot(x= 'Year', y= 'Internet_Users_Pct', kind='line')"
   ]
  },
  {
   "cell_type": "code",
   "execution_count": null,
   "id": "8c9c6b85",
   "metadata": {},
   "outputs": [],
   "source": [
    "gdp_and_internet_lean[gdp_and_internet_lean['Country']=='Singapore'].plot(x= 'Year', y= 'Internet_Users_Pct', kind='line')\n",
    "gdp_and_internet_lean[gdp_and_internet_lean['Country']=='Qatar'].plot(x= 'Year', y= 'Internet_Users_Pct', kind='line')\n",
    "gdp_and_internet_lean[gdp_and_internet_lean['Country']=='Luxembourg'].plot(x= 'Year', y= 'Internet_Users_Pct', kind='line')"
   ]
  },
  {
   "cell_type": "code",
   "execution_count": null,
   "id": "1c7d9aa7",
   "metadata": {},
   "outputs": [],
   "source": [
    "tips=gdp_and_internet_lean[gdp_and_internet_lean['Country']=='Luxembourg']\n",
    "gdp_and_internet_lean[gdp_and_internet_lean['Country']=='Singapore']\n",
    "gdp_and_internet_lean[gdp_and_internet_lean['Country']=='Qatar']"
   ]
  },
  {
   "cell_type": "code",
   "execution_count": 510,
   "id": "c276a0bb",
   "metadata": {},
   "outputs": [
    {
     "data": {
      "image/png": "[encoded data removed]",
      "text/plain": [
       "<Figure size 491.4x252 with 3 Axes>"
      ]
     },
     "metadata": {
      "needs_background": "light"
     },
     "output_type": "display_data"
    }
   ],
   "source": [
    "g = sns.FacetGrid(gdp_and_internet_use_2014_year_internet_S_L_Q, col=\"Country\", height=3.5, aspect=.65)\n",
    "g.map(sns.lineplot, \"Year\", 'Internet_Users_Pct');"
   ]
  },
  {
   "cell_type": "code",
   "execution_count": null,
   "id": "4b596eb4",
   "metadata": {},
   "outputs": [],
   "source": []
  },
  {
   "cell_type": "markdown",
   "id": "ff7148c5",
   "metadata": {},
   "source": [
    "Create a scatter plot of Internet Use vs GDP per Capita for the year 2014. What do you notice?\n",
    "\n",
    "Answer: there is a pretty strong positive relationship between gdp and internet use"
   ]
  },
  {
   "cell_type": "code",
   "execution_count": null,
   "id": "e3127a77",
   "metadata": {},
   "outputs": [],
   "source": [
    "gdp_and_internet_use_2014.plot(x='Internet_Users_Pct', y= 'GDP_Per_Capita', kind='scatter')"
   ]
  },
  {
   "cell_type": "markdown",
   "id": "dd163ddd",
   "metadata": {},
   "source": [
    "Find the correlation between GDP per Capita and Internet Use for the year 2014. What is the meaning of this number?\n",
    "\n",
    "\n",
    "answer: the correlation is .824.  this number can be between -1 and 1 and the closer it is to 1 the more positive a correlation, the closer to -1 the more there is a negative correlation, and 0 is no relation.  .82 is fairly strong.\n"
   ]
  },
  {
   "cell_type": "code",
   "execution_count": null,
   "id": "8ab2e318",
   "metadata": {},
   "outputs": [],
   "source": [
    "gdp_and_internet_use_2014.corr()"
   ]
  },
  {
   "cell_type": "markdown",
   "id": "1987afca",
   "metadata": {},
   "source": [
    "Add a column to gdp_and_internet_use_2014 and calculate the logarithm of GDP per capita. Find the correlation between the log of GDP per capita and internet users percentage. How does this compare to the calculation in the previous part?\n",
    "\n",
    "the correlation is stronger"
   ]
  },
  {
   "cell_type": "code",
   "execution_count": 479,
   "id": "4853f621",
   "metadata": {},
   "outputs": [
    {
     "data": {
      "text/plain": [
       "0       7.650828\n",
       "13      9.360816\n",
       "34      9.351207\n",
       "56      9.016735\n",
       "76      9.803902\n",
       "          ...   \n",
       "3351    9.932180\n",
       "3373    8.659472\n",
       "3394    8.044330\n",
       "3414    8.146143\n",
       "3436    7.991335\n",
       "Name: GDP_Per_Capita, Length: 163, dtype: float64"
      ]
     },
     "execution_count": 479,
     "metadata": {},
     "output_type": "execute_result"
    }
   ],
   "source": [
    "np.log(gdp_and_internet_use_2014['GDP_Per_Capita'])"
   ]
  },
  {
   "cell_type": "code",
   "execution_count": 480,
   "id": "d2805675",
   "metadata": {},
   "outputs": [
    {
     "name": "stderr",
     "output_type": "stream",
     "text": [
      "<ipython-input-480-8a213dc5377d>:1: SettingWithCopyWarning: \n",
      "A value is trying to be set on a copy of a slice from a DataFrame.\n",
      "Try using .loc[row_indexer,col_indexer] = value instead\n",
      "\n",
      "See the caveats in the documentation: https://pandas.pydata.org/pandas-docs/stable/user_guide/indexing.html#returning-a-view-versus-a-copy\n",
      "  gdp_and_internet_use_2014['Log_of_GDP']= np.log(gdp_and_internet_use_2014['GDP_Per_Capita'])\n"
     ]
    }
   ],
   "source": [
    "gdp_and_internet_use_2014['Log_of_GDP']= np.log(gdp_and_internet_use_2014['GDP_Per_Capita'])"
   ]
  },
  {
   "cell_type": "code",
   "execution_count": 507,
   "id": "74225401",
   "metadata": {},
   "outputs": [
    {
     "data": {
      "text/html": [
       "<div>\n",
       "<style scoped>\n",
       "    .dataframe tbody tr th:only-of-type {\n",
       "        vertical-align: middle;\n",
       "    }\n",
       "\n",
       "    .dataframe tbody tr th {\n",
       "        vertical-align: top;\n",
       "    }\n",
       "\n",
       "    .dataframe thead th {\n",
       "        text-align: right;\n",
       "    }\n",
       "</style>\n",
       "<table border=\"1\" class=\"dataframe\">\n",
       "  <thead>\n",
       "    <tr style=\"text-align: right;\">\n",
       "      <th></th>\n",
       "      <th>Country</th>\n",
       "      <th>Year</th>\n",
       "      <th>Internet_Users_Pct</th>\n",
       "      <th>Continent</th>\n",
       "      <th>GDP_Per_Capita</th>\n",
       "      <th>Log_of_GDP</th>\n",
       "    </tr>\n",
       "  </thead>\n",
       "  <tbody>\n",
       "    <tr>\n",
       "      <th>0</th>\n",
       "      <td>Afghanistan</td>\n",
       "      <td>2014</td>\n",
       "      <td>6.39</td>\n",
       "      <td>Asia</td>\n",
       "      <td>2102.385234</td>\n",
       "      <td>7.650828</td>\n",
       "    </tr>\n",
       "    <tr>\n",
       "      <th>13</th>\n",
       "      <td>Albania</td>\n",
       "      <td>2014</td>\n",
       "      <td>60.10</td>\n",
       "      <td>Europe</td>\n",
       "      <td>11623.866679</td>\n",
       "      <td>9.360816</td>\n",
       "    </tr>\n",
       "    <tr>\n",
       "      <th>34</th>\n",
       "      <td>Algeria</td>\n",
       "      <td>2014</td>\n",
       "      <td>18.09</td>\n",
       "      <td>Africa</td>\n",
       "      <td>11512.705405</td>\n",
       "      <td>9.351207</td>\n",
       "    </tr>\n",
       "    <tr>\n",
       "      <th>56</th>\n",
       "      <td>Angola</td>\n",
       "      <td>2014</td>\n",
       "      <td>21.26</td>\n",
       "      <td>Africa</td>\n",
       "      <td>8239.828837</td>\n",
       "      <td>9.016735</td>\n",
       "    </tr>\n",
       "    <tr>\n",
       "      <th>76</th>\n",
       "      <td>Antigua and Barbuda</td>\n",
       "      <td>2014</td>\n",
       "      <td>64.00</td>\n",
       "      <td>North America</td>\n",
       "      <td>18104.241470</td>\n",
       "      <td>9.803902</td>\n",
       "    </tr>\n",
       "    <tr>\n",
       "      <th>...</th>\n",
       "      <td>...</td>\n",
       "      <td>...</td>\n",
       "      <td>...</td>\n",
       "      <td>...</td>\n",
       "      <td>...</td>\n",
       "      <td>...</td>\n",
       "    </tr>\n",
       "    <tr>\n",
       "      <th>3351</th>\n",
       "      <td>Uruguay</td>\n",
       "      <td>2014</td>\n",
       "      <td>61.46</td>\n",
       "      <td>South America</td>\n",
       "      <td>20582.168953</td>\n",
       "      <td>9.932180</td>\n",
       "    </tr>\n",
       "    <tr>\n",
       "      <th>3373</th>\n",
       "      <td>Uzbekistan</td>\n",
       "      <td>2014</td>\n",
       "      <td>43.55</td>\n",
       "      <td>Asia</td>\n",
       "      <td>5764.492705</td>\n",
       "      <td>8.659472</td>\n",
       "    </tr>\n",
       "    <tr>\n",
       "      <th>3394</th>\n",
       "      <td>Vanuatu</td>\n",
       "      <td>2014</td>\n",
       "      <td>18.80</td>\n",
       "      <td>Oceania</td>\n",
       "      <td>3116.077025</td>\n",
       "      <td>8.044330</td>\n",
       "    </tr>\n",
       "    <tr>\n",
       "      <th>3414</th>\n",
       "      <td>Zambia</td>\n",
       "      <td>2014</td>\n",
       "      <td>17.34</td>\n",
       "      <td>Africa</td>\n",
       "      <td>3450.046561</td>\n",
       "      <td>8.146143</td>\n",
       "    </tr>\n",
       "    <tr>\n",
       "      <th>3436</th>\n",
       "      <td>Zimbabwe</td>\n",
       "      <td>2014</td>\n",
       "      <td>19.89</td>\n",
       "      <td>Africa</td>\n",
       "      <td>2955.240287</td>\n",
       "      <td>7.991335</td>\n",
       "    </tr>\n",
       "  </tbody>\n",
       "</table>\n",
       "<p>163 rows × 6 columns</p>\n",
       "</div>"
      ],
      "text/plain": [
       "                  Country  Year  Internet_Users_Pct      Continent  \\\n",
       "0             Afghanistan  2014                6.39           Asia   \n",
       "13                Albania  2014               60.10         Europe   \n",
       "34                Algeria  2014               18.09         Africa   \n",
       "56                 Angola  2014               21.26         Africa   \n",
       "76    Antigua and Barbuda  2014               64.00  North America   \n",
       "...                   ...   ...                 ...            ...   \n",
       "3351              Uruguay  2014               61.46  South America   \n",
       "3373           Uzbekistan  2014               43.55           Asia   \n",
       "3394              Vanuatu  2014               18.80        Oceania   \n",
       "3414               Zambia  2014               17.34         Africa   \n",
       "3436             Zimbabwe  2014               19.89         Africa   \n",
       "\n",
       "      GDP_Per_Capita  Log_of_GDP  \n",
       "0        2102.385234    7.650828  \n",
       "13      11623.866679    9.360816  \n",
       "34      11512.705405    9.351207  \n",
       "56       8239.828837    9.016735  \n",
       "76      18104.241470    9.803902  \n",
       "...              ...         ...  \n",
       "3351    20582.168953    9.932180  \n",
       "3373     5764.492705    8.659472  \n",
       "3394     3116.077025    8.044330  \n",
       "3414     3450.046561    8.146143  \n",
       "3436     2955.240287    7.991335  \n",
       "\n",
       "[163 rows x 6 columns]"
      ]
     },
     "execution_count": 507,
     "metadata": {},
     "output_type": "execute_result"
    }
   ],
   "source": [
    "gdp_and_internet_use_2014"
   ]
  },
  {
   "cell_type": "code",
   "execution_count": 508,
   "id": "713a18f0",
   "metadata": {},
   "outputs": [
    {
     "data": {
      "text/html": [
       "<div>\n",
       "<style scoped>\n",
       "    .dataframe tbody tr th:only-of-type {\n",
       "        vertical-align: middle;\n",
       "    }\n",
       "\n",
       "    .dataframe tbody tr th {\n",
       "        vertical-align: top;\n",
       "    }\n",
       "\n",
       "    .dataframe thead th {\n",
       "        text-align: right;\n",
       "    }\n",
       "</style>\n",
       "<table border=\"1\" class=\"dataframe\">\n",
       "  <thead>\n",
       "    <tr style=\"text-align: right;\">\n",
       "      <th></th>\n",
       "      <th>Year</th>\n",
       "      <th>Internet_Users_Pct</th>\n",
       "      <th>GDP_Per_Capita</th>\n",
       "      <th>Log_of_GDP</th>\n",
       "    </tr>\n",
       "  </thead>\n",
       "  <tbody>\n",
       "    <tr>\n",
       "      <th>Year</th>\n",
       "      <td>NaN</td>\n",
       "      <td>NaN</td>\n",
       "      <td>NaN</td>\n",
       "      <td>NaN</td>\n",
       "    </tr>\n",
       "    <tr>\n",
       "      <th>Internet_Users_Pct</th>\n",
       "      <td>NaN</td>\n",
       "      <td>1.000000</td>\n",
       "      <td>0.824627</td>\n",
       "      <td>0.903987</td>\n",
       "    </tr>\n",
       "    <tr>\n",
       "      <th>GDP_Per_Capita</th>\n",
       "      <td>NaN</td>\n",
       "      <td>0.824627</td>\n",
       "      <td>1.000000</td>\n",
       "      <td>0.864009</td>\n",
       "    </tr>\n",
       "    <tr>\n",
       "      <th>Log_of_GDP</th>\n",
       "      <td>NaN</td>\n",
       "      <td>0.903987</td>\n",
       "      <td>0.864009</td>\n",
       "      <td>1.000000</td>\n",
       "    </tr>\n",
       "  </tbody>\n",
       "</table>\n",
       "</div>"
      ],
      "text/plain": [
       "                    Year  Internet_Users_Pct  GDP_Per_Capita  Log_of_GDP\n",
       "Year                 NaN                 NaN             NaN         NaN\n",
       "Internet_Users_Pct   NaN            1.000000        0.824627    0.903987\n",
       "GDP_Per_Capita       NaN            0.824627        1.000000    0.864009\n",
       "Log_of_GDP           NaN            0.903987        0.864009    1.000000"
      ]
     },
     "execution_count": 508,
     "metadata": {},
     "output_type": "execute_result"
    }
   ],
   "source": [
    "gdp_and_internet_use_2014.corr()"
   ]
  },
  {
   "cell_type": "markdown",
   "id": "d80d3c6d",
   "metadata": {},
   "source": [
    "Filter the original dataset down to just the United States for all available years. Calculate correlation between internet use and gdp per capita. Is this meaningful or useful?\n",
    "\n",
    "the correlation is VERY TIGHT almost one, so close, it seemed odd so I double checked with a scatter to make sure I didn't mess something up.  It is not surprising that gdp and internet use are so strongly correlated though, the tech business has been a major player and generator of wealth in the US. "
   ]
  },
  {
   "cell_type": "code",
   "execution_count": 481,
   "id": "82057c42",
   "metadata": {},
   "outputs": [
    {
     "data": {
      "text/html": [
       "<div>\n",
       "<style scoped>\n",
       "    .dataframe tbody tr th:only-of-type {\n",
       "        vertical-align: middle;\n",
       "    }\n",
       "\n",
       "    .dataframe tbody tr th {\n",
       "        vertical-align: top;\n",
       "    }\n",
       "\n",
       "    .dataframe thead th {\n",
       "        text-align: right;\n",
       "    }\n",
       "</style>\n",
       "<table border=\"1\" class=\"dataframe\">\n",
       "  <thead>\n",
       "    <tr style=\"text-align: right;\">\n",
       "      <th></th>\n",
       "      <th>Country</th>\n",
       "      <th>Year</th>\n",
       "      <th>Internet_Users_Pct</th>\n",
       "      <th>Continent</th>\n",
       "      <th>GDP_Per_Capita</th>\n",
       "    </tr>\n",
       "  </thead>\n",
       "  <tbody>\n",
       "    <tr>\n",
       "      <th>3326</th>\n",
       "      <td>United States</td>\n",
       "      <td>2014</td>\n",
       "      <td>87.360000</td>\n",
       "      <td>North America</td>\n",
       "      <td>57273.129074</td>\n",
       "    </tr>\n",
       "    <tr>\n",
       "      <th>3327</th>\n",
       "      <td>United States</td>\n",
       "      <td>2013</td>\n",
       "      <td>84.200000</td>\n",
       "      <td>North America</td>\n",
       "      <td>56269.956427</td>\n",
       "    </tr>\n",
       "    <tr>\n",
       "      <th>3328</th>\n",
       "      <td>United States</td>\n",
       "      <td>2012</td>\n",
       "      <td>79.300000</td>\n",
       "      <td>North America</td>\n",
       "      <td>55632.929764</td>\n",
       "    </tr>\n",
       "    <tr>\n",
       "      <th>3329</th>\n",
       "      <td>United States</td>\n",
       "      <td>2011</td>\n",
       "      <td>69.729461</td>\n",
       "      <td>North America</td>\n",
       "      <td>54806.116927</td>\n",
       "    </tr>\n",
       "    <tr>\n",
       "      <th>3330</th>\n",
       "      <td>United States</td>\n",
       "      <td>2010</td>\n",
       "      <td>71.690000</td>\n",
       "      <td>North America</td>\n",
       "      <td>54359.133974</td>\n",
       "    </tr>\n",
       "    <tr>\n",
       "      <th>3331</th>\n",
       "      <td>United States</td>\n",
       "      <td>2009</td>\n",
       "      <td>71.000000</td>\n",
       "      <td>North America</td>\n",
       "      <td>53440.911538</td>\n",
       "    </tr>\n",
       "    <tr>\n",
       "      <th>3332</th>\n",
       "      <td>United States</td>\n",
       "      <td>2008</td>\n",
       "      <td>74.000000</td>\n",
       "      <td>North America</td>\n",
       "      <td>55314.660060</td>\n",
       "    </tr>\n",
       "    <tr>\n",
       "      <th>3333</th>\n",
       "      <td>United States</td>\n",
       "      <td>2007</td>\n",
       "      <td>75.000000</td>\n",
       "      <td>North America</td>\n",
       "      <td>55916.715383</td>\n",
       "    </tr>\n",
       "    <tr>\n",
       "      <th>3334</th>\n",
       "      <td>United States</td>\n",
       "      <td>2006</td>\n",
       "      <td>68.931193</td>\n",
       "      <td>North America</td>\n",
       "      <td>55411.437548</td>\n",
       "    </tr>\n",
       "    <tr>\n",
       "      <th>3335</th>\n",
       "      <td>United States</td>\n",
       "      <td>2005</td>\n",
       "      <td>67.968053</td>\n",
       "      <td>North America</td>\n",
       "      <td>54395.356484</td>\n",
       "    </tr>\n",
       "    <tr>\n",
       "      <th>3336</th>\n",
       "      <td>United States</td>\n",
       "      <td>2004</td>\n",
       "      <td>64.758256</td>\n",
       "      <td>North America</td>\n",
       "      <td>53035.782913</td>\n",
       "    </tr>\n",
       "    <tr>\n",
       "      <th>3337</th>\n",
       "      <td>United States</td>\n",
       "      <td>2003</td>\n",
       "      <td>61.697117</td>\n",
       "      <td>North America</td>\n",
       "      <td>51569.817690</td>\n",
       "    </tr>\n",
       "    <tr>\n",
       "      <th>3338</th>\n",
       "      <td>United States</td>\n",
       "      <td>2002</td>\n",
       "      <td>58.785404</td>\n",
       "      <td>North America</td>\n",
       "      <td>50568.101109</td>\n",
       "    </tr>\n",
       "    <tr>\n",
       "      <th>3339</th>\n",
       "      <td>United States</td>\n",
       "      <td>2001</td>\n",
       "      <td>49.080832</td>\n",
       "      <td>North America</td>\n",
       "      <td>50165.719941</td>\n",
       "    </tr>\n",
       "    <tr>\n",
       "      <th>3340</th>\n",
       "      <td>United States</td>\n",
       "      <td>2000</td>\n",
       "      <td>43.079163</td>\n",
       "      <td>North America</td>\n",
       "      <td>50163.889468</td>\n",
       "    </tr>\n",
       "    <tr>\n",
       "      <th>3341</th>\n",
       "      <td>United States</td>\n",
       "      <td>1999</td>\n",
       "      <td>35.848724</td>\n",
       "      <td>North America</td>\n",
       "      <td>48714.530554</td>\n",
       "    </tr>\n",
       "    <tr>\n",
       "      <th>3342</th>\n",
       "      <td>United States</td>\n",
       "      <td>1998</td>\n",
       "      <td>30.093197</td>\n",
       "      <td>North America</td>\n",
       "      <td>47041.184778</td>\n",
       "    </tr>\n",
       "    <tr>\n",
       "      <th>3343</th>\n",
       "      <td>United States</td>\n",
       "      <td>1997</td>\n",
       "      <td>21.616401</td>\n",
       "      <td>North America</td>\n",
       "      <td>45551.414805</td>\n",
       "    </tr>\n",
       "    <tr>\n",
       "      <th>3344</th>\n",
       "      <td>United States</td>\n",
       "      <td>1996</td>\n",
       "      <td>16.419353</td>\n",
       "      <td>North America</td>\n",
       "      <td>44140.142786</td>\n",
       "    </tr>\n",
       "    <tr>\n",
       "      <th>3345</th>\n",
       "      <td>United States</td>\n",
       "      <td>1995</td>\n",
       "      <td>9.237088</td>\n",
       "      <td>North America</td>\n",
       "      <td>43033.243518</td>\n",
       "    </tr>\n",
       "    <tr>\n",
       "      <th>3346</th>\n",
       "      <td>United States</td>\n",
       "      <td>1994</td>\n",
       "      <td>4.862781</td>\n",
       "      <td>North America</td>\n",
       "      <td>42410.326048</td>\n",
       "    </tr>\n",
       "    <tr>\n",
       "      <th>3347</th>\n",
       "      <td>United States</td>\n",
       "      <td>1993</td>\n",
       "      <td>2.271673</td>\n",
       "      <td>North America</td>\n",
       "      <td>41270.867304</td>\n",
       "    </tr>\n",
       "    <tr>\n",
       "      <th>3348</th>\n",
       "      <td>United States</td>\n",
       "      <td>1992</td>\n",
       "      <td>1.724203</td>\n",
       "      <td>North America</td>\n",
       "      <td>40698.340183</td>\n",
       "    </tr>\n",
       "    <tr>\n",
       "      <th>3349</th>\n",
       "      <td>United States</td>\n",
       "      <td>1991</td>\n",
       "      <td>1.163194</td>\n",
       "      <td>North America</td>\n",
       "      <td>39862.575565</td>\n",
       "    </tr>\n",
       "    <tr>\n",
       "      <th>3350</th>\n",
       "      <td>United States</td>\n",
       "      <td>1990</td>\n",
       "      <td>0.784729</td>\n",
       "      <td>North America</td>\n",
       "      <td>40442.601132</td>\n",
       "    </tr>\n",
       "  </tbody>\n",
       "</table>\n",
       "</div>"
      ],
      "text/plain": [
       "            Country  Year  Internet_Users_Pct      Continent  GDP_Per_Capita\n",
       "3326  United States  2014           87.360000  North America    57273.129074\n",
       "3327  United States  2013           84.200000  North America    56269.956427\n",
       "3328  United States  2012           79.300000  North America    55632.929764\n",
       "3329  United States  2011           69.729461  North America    54806.116927\n",
       "3330  United States  2010           71.690000  North America    54359.133974\n",
       "3331  United States  2009           71.000000  North America    53440.911538\n",
       "3332  United States  2008           74.000000  North America    55314.660060\n",
       "3333  United States  2007           75.000000  North America    55916.715383\n",
       "3334  United States  2006           68.931193  North America    55411.437548\n",
       "3335  United States  2005           67.968053  North America    54395.356484\n",
       "3336  United States  2004           64.758256  North America    53035.782913\n",
       "3337  United States  2003           61.697117  North America    51569.817690\n",
       "3338  United States  2002           58.785404  North America    50568.101109\n",
       "3339  United States  2001           49.080832  North America    50165.719941\n",
       "3340  United States  2000           43.079163  North America    50163.889468\n",
       "3341  United States  1999           35.848724  North America    48714.530554\n",
       "3342  United States  1998           30.093197  North America    47041.184778\n",
       "3343  United States  1997           21.616401  North America    45551.414805\n",
       "3344  United States  1996           16.419353  North America    44140.142786\n",
       "3345  United States  1995            9.237088  North America    43033.243518\n",
       "3346  United States  1994            4.862781  North America    42410.326048\n",
       "3347  United States  1993            2.271673  North America    41270.867304\n",
       "3348  United States  1992            1.724203  North America    40698.340183\n",
       "3349  United States  1991            1.163194  North America    39862.575565\n",
       "3350  United States  1990            0.784729  North America    40442.601132"
      ]
     },
     "execution_count": 481,
     "metadata": {},
     "output_type": "execute_result"
    }
   ],
   "source": [
    "gdp_and_internet_use[gdp_and_internet_use['Country']=='United States']"
   ]
  },
  {
   "cell_type": "code",
   "execution_count": 482,
   "id": "eef73efd",
   "metadata": {},
   "outputs": [
    {
     "data": {
      "text/html": [
       "<div>\n",
       "<style scoped>\n",
       "    .dataframe tbody tr th:only-of-type {\n",
       "        vertical-align: middle;\n",
       "    }\n",
       "\n",
       "    .dataframe tbody tr th {\n",
       "        vertical-align: top;\n",
       "    }\n",
       "\n",
       "    .dataframe thead th {\n",
       "        text-align: right;\n",
       "    }\n",
       "</style>\n",
       "<table border=\"1\" class=\"dataframe\">\n",
       "  <thead>\n",
       "    <tr style=\"text-align: right;\">\n",
       "      <th></th>\n",
       "      <th>Year</th>\n",
       "      <th>Internet_Users_Pct</th>\n",
       "      <th>GDP_Per_Capita</th>\n",
       "    </tr>\n",
       "  </thead>\n",
       "  <tbody>\n",
       "    <tr>\n",
       "      <th>Year</th>\n",
       "      <td>1.000000</td>\n",
       "      <td>0.969113</td>\n",
       "      <td>0.96344</td>\n",
       "    </tr>\n",
       "    <tr>\n",
       "      <th>Internet_Users_Pct</th>\n",
       "      <td>0.969113</td>\n",
       "      <td>1.000000</td>\n",
       "      <td>0.99166</td>\n",
       "    </tr>\n",
       "    <tr>\n",
       "      <th>GDP_Per_Capita</th>\n",
       "      <td>0.963440</td>\n",
       "      <td>0.991660</td>\n",
       "      <td>1.00000</td>\n",
       "    </tr>\n",
       "  </tbody>\n",
       "</table>\n",
       "</div>"
      ],
      "text/plain": [
       "                        Year  Internet_Users_Pct  GDP_Per_Capita\n",
       "Year                1.000000            0.969113         0.96344\n",
       "Internet_Users_Pct  0.969113            1.000000         0.99166\n",
       "GDP_Per_Capita      0.963440            0.991660         1.00000"
      ]
     },
     "execution_count": 482,
     "metadata": {},
     "output_type": "execute_result"
    }
   ],
   "source": [
    "gdp_and_internet_use[gdp_and_internet_use['Country']=='United States'].corr()"
   ]
  },
  {
   "cell_type": "code",
   "execution_count": 483,
   "id": "f2e5caa2",
   "metadata": {},
   "outputs": [
    {
     "data": {
      "text/plain": [
       "<AxesSubplot:xlabel='GDP_Per_Capita', ylabel='Internet_Users_Pct'>"
      ]
     },
     "execution_count": 483,
     "metadata": {},
     "output_type": "execute_result"
    },
    {
     "data": {
      "image/png": "[encoded data removed]",
      "text/plain": [
       "<Figure size 432x288 with 1 Axes>"
      ]
     },
     "metadata": {
      "needs_background": "light"
     },
     "output_type": "display_data"
    }
   ],
   "source": [
    "gdp_and_internet_use[gdp_and_internet_use['Country']=='United States'].plot(x='GDP_Per_Capita', y= 'Internet_Users_Pct', kind= 'scatter')"
   ]
  },
  {
   "cell_type": "code",
   "execution_count": null,
   "id": "f475eb9c",
   "metadata": {},
   "outputs": [],
   "source": [
    "contraceptives = pd.read_excel('../data/Contraceptive Prevalence Method.xls', skiprows = [0,1,2,3,5], usecols = ['Unnamed: 0', 'Unnamed: 2', 'Any modern method'])"
   ]
  },
  {
   "cell_type": "code",
   "execution_count": null,
   "id": "2486c031",
   "metadata": {},
   "outputs": [],
   "source": [
    "contraceptives.head(21)"
   ]
  },
  {
   "cell_type": "code",
   "execution_count": null,
   "id": "08367909",
   "metadata": {},
   "outputs": [],
   "source": [
    "contraceptives.columns=['Country', 'Year', 'Any_Modern_Method']"
   ]
  },
  {
   "cell_type": "code",
   "execution_count": null,
   "id": "32b09400",
   "metadata": {},
   "outputs": [],
   "source": [
    "contraceptives= contraceptives.replace('..', np.nan)"
   ]
  },
  {
   "cell_type": "code",
   "execution_count": null,
   "id": "4ffc1df1",
   "metadata": {},
   "outputs": [],
   "source": [
    "contraceptives['Any_Modern_Method'] = pd.to_numeric(contraceptives['Any_Modern_Method'])"
   ]
  },
  {
   "cell_type": "code",
   "execution_count": null,
   "id": "d1370abd",
   "metadata": {},
   "outputs": [],
   "source": [
    "Afgan_Contra = contraceptives[contraceptives['Country']=='Afghanistan']"
   ]
  },
  {
   "cell_type": "code",
   "execution_count": null,
   "id": "1015c44a",
   "metadata": {},
   "outputs": [],
   "source": [
    "Afgan_Contra"
   ]
  },
  {
   "cell_type": "code",
   "execution_count": null,
   "id": "3e38bf3e",
   "metadata": {},
   "outputs": [],
   "source": [
    "Afgan_Contra_Lean=Afgan_Contra.drop(index= [0, 5,7])"
   ]
  },
  {
   "cell_type": "code",
   "execution_count": null,
   "id": "6a72ca0c",
   "metadata": {},
   "outputs": [],
   "source": [
    "Afgan_Contra_Lean"
   ]
  },
  {
   "cell_type": "code",
   "execution_count": null,
   "id": "edd1dee1",
   "metadata": {},
   "outputs": [],
   "source": []
  },
  {
   "cell_type": "code",
   "execution_count": null,
   "id": "469ca306",
   "metadata": {},
   "outputs": [],
   "source": [
    "Zim_Contra = contraceptives[contraceptives['Country']=='Zimbabwe']"
   ]
  },
  {
   "cell_type": "code",
   "execution_count": null,
   "id": "e29f5b71",
   "metadata": {},
   "outputs": [],
   "source": [
    "Zim_Contra_Lean=Zim_Contra.drop(index= [1010, 1013,1014])"
   ]
  },
  {
   "cell_type": "code",
   "execution_count": null,
   "id": "fedcadef",
   "metadata": {},
   "outputs": [],
   "source": [
    "Zim_Contra_Lean"
   ]
  },
  {
   "cell_type": "code",
   "execution_count": null,
   "id": "0d1a79ca",
   "metadata": {},
   "outputs": [],
   "source": [
    "Afgan_Contra_Lean.plot(x= 'Year', y= 'Any_Modern_Method', kind='scatter')\n",
    "Zim_Contra_Lean.plot(x= 'Year', y= 'Any_Modern_Method', kind='scatter')"
   ]
  },
  {
   "cell_type": "code",
   "execution_count": null,
   "id": "11287837",
   "metadata": {},
   "outputs": [],
   "source": [
    "gdp_and_contraception=pd.merge(contraceptives, gdp_df,  on= ['Country','Year'])"
   ]
  },
  {
   "cell_type": "code",
   "execution_count": null,
   "id": "d650bf9e",
   "metadata": {},
   "outputs": [],
   "source": [
    "gdp_and_contraception"
   ]
  },
  {
   "cell_type": "code",
   "execution_count": null,
   "id": "2c26b3a0",
   "metadata": {},
   "outputs": [],
   "source": [
    "gdp_and_contraception.sort_values('Year')"
   ]
  },
  {
   "cell_type": "code",
   "execution_count": null,
   "id": "d950f569",
   "metadata": {},
   "outputs": [],
   "source": [
    "gdp_and_contraception_2006= gdp_and_contraception[gdp_and_contraception['Year']==2006]"
   ]
  },
  {
   "cell_type": "code",
   "execution_count": null,
   "id": "f02dea5e",
   "metadata": {},
   "outputs": [],
   "source": [
    "gdp_and_contraception_2006.count()"
   ]
  },
  {
   "cell_type": "code",
   "execution_count": null,
   "id": "0bb7d7a5",
   "metadata": {},
   "outputs": [],
   "source": [
    "gdp_and_contraception_2006.plot(x= 'GDP_Per_Capita', y= 'Any_Modern_Method', kind='scatter', title= \"GDP V Contraception in 2006\")"
   ]
  },
  {
   "cell_type": "code",
   "execution_count": null,
   "id": "bc35c217",
   "metadata": {},
   "outputs": [],
   "source": [
    "gdp_and_contraception_2014.corr()"
   ]
  },
  {
   "cell_type": "markdown",
   "id": "555a77f2",
   "metadata": {},
   "source": [
    "There is a weak correlation, however, this could change pretty drastically with a larger subset."
   ]
  }
 ],
 "metadata": {
  "kernelspec": {
   "display_name": "Python 3",
   "language": "python",
   "name": "python3"
  },
  "language_info": {
   "codemirror_mode": {
    "name": "ipython",
    "version": 3
   },
   "file_extension": ".py",
   "mimetype": "text/x-python",
   "name": "python",
   "nbconvert_exporter": "python",
   "pygments_lexer": "ipython3",
   "version": "3.8.8"
  }
 },
 "nbformat": 4,
 "nbformat_minor": 5
}
